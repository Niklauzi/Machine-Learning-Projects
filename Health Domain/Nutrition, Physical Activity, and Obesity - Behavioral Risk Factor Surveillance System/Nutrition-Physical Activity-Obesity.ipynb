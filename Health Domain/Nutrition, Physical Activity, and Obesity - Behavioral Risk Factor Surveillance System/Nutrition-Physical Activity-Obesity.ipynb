{
 "cells": [
  {
   "cell_type": "markdown",
   "id": "08a804c2",
   "metadata": {},
   "source": [
    "https://data.cdc.gov/Nutrition-Physical-Activity-and-Obesity/Nutrition-Physical-Activity-and-Obesity-Behavioral/hn4x-zwk7/about_data"
   ]
  },
  {
   "cell_type": "code",
   "execution_count": 1,
   "id": "b64f8f86",
   "metadata": {},
   "outputs": [],
   "source": [
    "# Importing all relevant packages to the project\n",
    "import pandas as pd\n",
    "import numpy as np\n",
    "import seaborn as sns\n",
    "import matplotlib.pyplot as plt\n",
    "import warnings  # Import warnings to handle warning messages\n",
    "warnings.filterwarnings('ignore')  # Ignore warning messages to avoid cluttering the output\n",
    "\n",
    "%matplotlib inline"
   ]
  },
  {
   "cell_type": "code",
   "execution_count": 2,
   "id": "4febf620",
   "metadata": {},
   "outputs": [],
   "source": [
    "df = pd.read_csv('Datasets/Nutrition__Physical_Activity__and_Obesity_-_Behavioral_Risk_Factor_Surveillance_System.csv')\n",
    "pd.set_option('display.max_columns', None)"
   ]
  },
  {
   "cell_type": "code",
   "execution_count": 3,
   "id": "c03f5e48",
   "metadata": {},
   "outputs": [],
   "source": [
    "df.columns = df.columns.str.strip() # Remove leading and trailing whitespace from column names"
   ]
  },
  {
   "cell_type": "code",
   "execution_count": 4,
   "id": "555733d9",
   "metadata": {},
   "outputs": [
    {
     "data": {
      "text/html": [
       "<div>\n",
       "<style scoped>\n",
       "    .dataframe tbody tr th:only-of-type {\n",
       "        vertical-align: middle;\n",
       "    }\n",
       "\n",
       "    .dataframe tbody tr th {\n",
       "        vertical-align: top;\n",
       "    }\n",
       "\n",
       "    .dataframe thead th {\n",
       "        text-align: right;\n",
       "    }\n",
       "</style>\n",
       "<table border=\"1\" class=\"dataframe\">\n",
       "  <thead>\n",
       "    <tr style=\"text-align: right;\">\n",
       "      <th></th>\n",
       "      <th>YearStart</th>\n",
       "      <th>YearEnd</th>\n",
       "      <th>LocationAbbr</th>\n",
       "      <th>LocationDesc</th>\n",
       "      <th>Datasource</th>\n",
       "      <th>Class</th>\n",
       "      <th>Topic</th>\n",
       "      <th>Question</th>\n",
       "      <th>Data_Value_Unit</th>\n",
       "      <th>Data_Value_Type</th>\n",
       "      <th>Data_Value</th>\n",
       "      <th>Data_Value_Alt</th>\n",
       "      <th>Data_Value_Footnote_Symbol</th>\n",
       "      <th>Data_Value_Footnote</th>\n",
       "      <th>Low_Confidence_Limit</th>\n",
       "      <th>High_Confidence_Limit</th>\n",
       "      <th>Sample_Size</th>\n",
       "      <th>Total</th>\n",
       "      <th>Age(years)</th>\n",
       "      <th>Education</th>\n",
       "      <th>Gender</th>\n",
       "      <th>Income</th>\n",
       "      <th>Race/Ethnicity</th>\n",
       "      <th>GeoLocation</th>\n",
       "      <th>ClassID</th>\n",
       "      <th>TopicID</th>\n",
       "      <th>QuestionID</th>\n",
       "      <th>DataValueTypeID</th>\n",
       "      <th>LocationID</th>\n",
       "      <th>StratificationCategory1</th>\n",
       "      <th>Stratification1</th>\n",
       "      <th>StratificationCategoryId1</th>\n",
       "      <th>StratificationID1</th>\n",
       "    </tr>\n",
       "  </thead>\n",
       "  <tbody>\n",
       "    <tr>\n",
       "      <th>0</th>\n",
       "      <td>2011</td>\n",
       "      <td>2011</td>\n",
       "      <td>AK</td>\n",
       "      <td>Alaska</td>\n",
       "      <td>BRFSS</td>\n",
       "      <td>Obesity / Weight Status</td>\n",
       "      <td>Obesity / Weight Status</td>\n",
       "      <td>Percent of adults aged 18 years and older who ...</td>\n",
       "      <td>2011.0</td>\n",
       "      <td>Value</td>\n",
       "      <td>23.3</td>\n",
       "      <td>23.3</td>\n",
       "      <td>NaN</td>\n",
       "      <td>NaN</td>\n",
       "      <td>16.1</td>\n",
       "      <td>32.4</td>\n",
       "      <td>128.0</td>\n",
       "      <td>NaN</td>\n",
       "      <td>NaN</td>\n",
       "      <td>NaN</td>\n",
       "      <td>NaN</td>\n",
       "      <td>NaN</td>\n",
       "      <td>2 or more races</td>\n",
       "      <td>(64.845079957001, -147.722059036)</td>\n",
       "      <td>OWS</td>\n",
       "      <td>OWS1</td>\n",
       "      <td>Q036</td>\n",
       "      <td>VALUE</td>\n",
       "      <td>2</td>\n",
       "      <td>Race/Ethnicity</td>\n",
       "      <td>2 or more races</td>\n",
       "      <td>RACE</td>\n",
       "      <td>RACE2PLUS</td>\n",
       "    </tr>\n",
       "    <tr>\n",
       "      <th>1</th>\n",
       "      <td>2011</td>\n",
       "      <td>2011</td>\n",
       "      <td>AK</td>\n",
       "      <td>Alaska</td>\n",
       "      <td>BRFSS</td>\n",
       "      <td>Obesity / Weight Status</td>\n",
       "      <td>Obesity / Weight Status</td>\n",
       "      <td>Percent of adults aged 18 years and older who ...</td>\n",
       "      <td>2011.0</td>\n",
       "      <td>Value</td>\n",
       "      <td>35.5</td>\n",
       "      <td>35.5</td>\n",
       "      <td>NaN</td>\n",
       "      <td>NaN</td>\n",
       "      <td>22.7</td>\n",
       "      <td>50.9</td>\n",
       "      <td>63.0</td>\n",
       "      <td>NaN</td>\n",
       "      <td>NaN</td>\n",
       "      <td>NaN</td>\n",
       "      <td>NaN</td>\n",
       "      <td>NaN</td>\n",
       "      <td>Other</td>\n",
       "      <td>(64.845079957001, -147.722059036)</td>\n",
       "      <td>OWS</td>\n",
       "      <td>OWS1</td>\n",
       "      <td>Q036</td>\n",
       "      <td>VALUE</td>\n",
       "      <td>2</td>\n",
       "      <td>Race/Ethnicity</td>\n",
       "      <td>Other</td>\n",
       "      <td>RACE</td>\n",
       "      <td>RACEOTH</td>\n",
       "    </tr>\n",
       "    <tr>\n",
       "      <th>2</th>\n",
       "      <td>2011</td>\n",
       "      <td>2011</td>\n",
       "      <td>AK</td>\n",
       "      <td>Alaska</td>\n",
       "      <td>BRFSS</td>\n",
       "      <td>Physical Activity</td>\n",
       "      <td>Physical Activity - Behavior</td>\n",
       "      <td>Percent of adults who achieve at least 150 min...</td>\n",
       "      <td>2011.0</td>\n",
       "      <td>Value</td>\n",
       "      <td>21.7</td>\n",
       "      <td>21.7</td>\n",
       "      <td>NaN</td>\n",
       "      <td>NaN</td>\n",
       "      <td>19.1</td>\n",
       "      <td>24.6</td>\n",
       "      <td>1702.0</td>\n",
       "      <td>NaN</td>\n",
       "      <td>NaN</td>\n",
       "      <td>NaN</td>\n",
       "      <td>Female</td>\n",
       "      <td>NaN</td>\n",
       "      <td>NaN</td>\n",
       "      <td>(64.845079957001, -147.722059036)</td>\n",
       "      <td>PA</td>\n",
       "      <td>PA1</td>\n",
       "      <td>Q044</td>\n",
       "      <td>VALUE</td>\n",
       "      <td>2</td>\n",
       "      <td>Gender</td>\n",
       "      <td>Female</td>\n",
       "      <td>GEN</td>\n",
       "      <td>FEMALE</td>\n",
       "    </tr>\n",
       "  </tbody>\n",
       "</table>\n",
       "</div>"
      ],
      "text/plain": [
       "   YearStart  YearEnd LocationAbbr LocationDesc Datasource  \\\n",
       "0       2011     2011           AK       Alaska      BRFSS   \n",
       "1       2011     2011           AK       Alaska      BRFSS   \n",
       "2       2011     2011           AK       Alaska      BRFSS   \n",
       "\n",
       "                     Class                         Topic  \\\n",
       "0  Obesity / Weight Status       Obesity / Weight Status   \n",
       "1  Obesity / Weight Status       Obesity / Weight Status   \n",
       "2        Physical Activity  Physical Activity - Behavior   \n",
       "\n",
       "                                            Question  Data_Value_Unit  \\\n",
       "0  Percent of adults aged 18 years and older who ...           2011.0   \n",
       "1  Percent of adults aged 18 years and older who ...           2011.0   \n",
       "2  Percent of adults who achieve at least 150 min...           2011.0   \n",
       "\n",
       "  Data_Value_Type  Data_Value  Data_Value_Alt Data_Value_Footnote_Symbol  \\\n",
       "0           Value        23.3            23.3                        NaN   \n",
       "1           Value        35.5            35.5                        NaN   \n",
       "2           Value        21.7            21.7                        NaN   \n",
       "\n",
       "  Data_Value_Footnote  Low_Confidence_Limit  High_Confidence_Limit  \\\n",
       "0                 NaN                  16.1                   32.4   \n",
       "1                 NaN                  22.7                   50.9   \n",
       "2                 NaN                  19.1                   24.6   \n",
       "\n",
       "   Sample_Size Total Age(years) Education  Gender Income   Race/Ethnicity  \\\n",
       "0        128.0   NaN        NaN       NaN     NaN    NaN  2 or more races   \n",
       "1         63.0   NaN        NaN       NaN     NaN    NaN            Other   \n",
       "2       1702.0   NaN        NaN       NaN  Female    NaN              NaN   \n",
       "\n",
       "                         GeoLocation ClassID TopicID QuestionID  \\\n",
       "0  (64.845079957001, -147.722059036)     OWS    OWS1       Q036   \n",
       "1  (64.845079957001, -147.722059036)     OWS    OWS1       Q036   \n",
       "2  (64.845079957001, -147.722059036)      PA     PA1       Q044   \n",
       "\n",
       "  DataValueTypeID  LocationID StratificationCategory1  Stratification1  \\\n",
       "0           VALUE           2          Race/Ethnicity  2 or more races   \n",
       "1           VALUE           2          Race/Ethnicity            Other   \n",
       "2           VALUE           2                  Gender           Female   \n",
       "\n",
       "  StratificationCategoryId1 StratificationID1  \n",
       "0                      RACE         RACE2PLUS  \n",
       "1                      RACE           RACEOTH  \n",
       "2                       GEN            FEMALE  "
      ]
     },
     "execution_count": 4,
     "metadata": {},
     "output_type": "execute_result"
    }
   ],
   "source": [
    "df.head(3)"
   ]
  },
  {
   "cell_type": "code",
   "execution_count": 5,
   "id": "980ea4d4",
   "metadata": {},
   "outputs": [
    {
     "data": {
      "text/plain": [
       "(104272, 33)"
      ]
     },
     "execution_count": 5,
     "metadata": {},
     "output_type": "execute_result"
    }
   ],
   "source": [
    "df.shape"
   ]
  },
  {
   "cell_type": "code",
   "execution_count": 6,
   "id": "1e12f569",
   "metadata": {},
   "outputs": [
    {
     "name": "stdout",
     "output_type": "stream",
     "text": [
      "<class 'pandas.core.frame.DataFrame'>\n",
      "RangeIndex: 104272 entries, 0 to 104271\n",
      "Data columns (total 33 columns):\n",
      " #   Column                      Non-Null Count   Dtype  \n",
      "---  ------                      --------------   -----  \n",
      " 0   YearStart                   104272 non-null  int64  \n",
      " 1   YearEnd                     104272 non-null  int64  \n",
      " 2   LocationAbbr                104272 non-null  object \n",
      " 3   LocationDesc                104272 non-null  object \n",
      " 4   Datasource                  104272 non-null  object \n",
      " 5   Class                       104272 non-null  object \n",
      " 6   Topic                       104272 non-null  object \n",
      " 7   Question                    104272 non-null  object \n",
      " 8   Data_Value_Unit             88872 non-null   float64\n",
      " 9   Data_Value_Type             104272 non-null  object \n",
      " 10  Data_Value                  93505 non-null   float64\n",
      " 11  Data_Value_Alt              93505 non-null   float64\n",
      " 12  Data_Value_Footnote_Symbol  10767 non-null   object \n",
      " 13  Data_Value_Footnote         10767 non-null   object \n",
      " 14  Low_Confidence_Limit        93505 non-null   float64\n",
      " 15  High_Confidence_Limit       93505 non-null   float64\n",
      " 16  Sample_Size                 93505 non-null   float64\n",
      " 17  Total                       3724 non-null    object \n",
      " 18  Age(years)                  22344 non-null   object \n",
      " 19  Education                   14896 non-null   object \n",
      " 20  Gender                      7448 non-null    object \n",
      " 21  Income                      26068 non-null   object \n",
      " 22  Race/Ethnicity              29792 non-null   object \n",
      " 23  GeoLocation                 102340 non-null  object \n",
      " 24  ClassID                     104272 non-null  object \n",
      " 25  TopicID                     104272 non-null  object \n",
      " 26  QuestionID                  104272 non-null  object \n",
      " 27  DataValueTypeID             104272 non-null  object \n",
      " 28  LocationID                  104272 non-null  int64  \n",
      " 29  StratificationCategory1     104272 non-null  object \n",
      " 30  Stratification1             104272 non-null  object \n",
      " 31  StratificationCategoryId1   104272 non-null  object \n",
      " 32  StratificationID1           104272 non-null  object \n",
      "dtypes: float64(6), int64(3), object(24)\n",
      "memory usage: 26.3+ MB\n"
     ]
    }
   ],
   "source": [
    "df.info()"
   ]
  },
  {
   "cell_type": "code",
   "execution_count": 7,
   "id": "c6fb8d1f",
   "metadata": {},
   "outputs": [
    {
     "data": {
      "text/plain": [
       "Index(['YearStart', 'YearEnd', 'LocationAbbr', 'LocationDesc', 'Datasource',\n",
       "       'Class', 'Topic', 'Question', 'Data_Value_Unit', 'Data_Value_Type',\n",
       "       'Data_Value', 'Data_Value_Alt', 'Data_Value_Footnote_Symbol',\n",
       "       'Data_Value_Footnote', 'Low_Confidence_Limit', 'High_Confidence_Limit',\n",
       "       'Sample_Size', 'Total', 'Age(years)', 'Education', 'Gender', 'Income',\n",
       "       'Race/Ethnicity', 'GeoLocation', 'ClassID', 'TopicID', 'QuestionID',\n",
       "       'DataValueTypeID', 'LocationID', 'StratificationCategory1',\n",
       "       'Stratification1', 'StratificationCategoryId1', 'StratificationID1'],\n",
       "      dtype='object')"
      ]
     },
     "execution_count": 7,
     "metadata": {},
     "output_type": "execute_result"
    }
   ],
   "source": [
    "df.columns"
   ]
  },
  {
   "cell_type": "code",
   "execution_count": null,
   "id": "18581e3b",
   "metadata": {},
   "outputs": [],
   "source": []
  },
  {
   "cell_type": "code",
   "execution_count": null,
   "id": "d77064b5",
   "metadata": {},
   "outputs": [],
   "source": []
  },
  {
   "cell_type": "markdown",
   "id": "224f1615",
   "metadata": {},
   "source": [
    "### Dropping unnecessary columns"
   ]
  },
  {
   "cell_type": "markdown",
   "id": "283b1e43",
   "metadata": {},
   "source": [
    "#### Columns to drop\n",
    "\n",
    "\n",
    "YearEnd countains the same values as YearStart, it will be dropped and YearStart renamed to Year\n",
    "\n",
    "GeoLocation will be dropped as we already h LocationDesc\n",
    "\n",
    "LocationAbbr column will be dropped for now.\n",
    "\n",
    "Topic columns will be dropped as it is same with the Class column\n",
    "\n",
    "'Data_Value_Unit' will be dropped as it is same as Year column, also i will drop the 'Data_Value_Type' and DataValueTypeID column as it contains a single vlaue\n",
    "\n",
    "Data_Value_Alt will be dropped as it is the same with Data_Value\n",
    "\n",
    "TopcID will be dropped as it is similar with ClassID"
   ]
  },
  {
   "cell_type": "code",
   "execution_count": 8,
   "id": "a02b689e",
   "metadata": {},
   "outputs": [],
   "source": [
    "# Dropping unnecessary columns\n",
    "\n",
    "unnecessary_columns = ['YearEnd', 'GeoLocation', 'LocationAbbr', 'Datasource', 'Topic', 'Data_Value_Type', 'Data_Value_Unit', 'Data_Value_Alt', 'TopicID', 'DataValueTypeID' , 'StratificationCategory1',\n",
    "       'Stratification1', 'StratificationCategoryId1', 'StratificationID1', 'ClassID', 'Question', 'QuestionID', 'LocationDesc']\n",
    "\n",
    "df = df.drop(columns= unnecessary_columns)"
   ]
  },
  {
   "cell_type": "code",
   "execution_count": 9,
   "id": "eedd70af",
   "metadata": {},
   "outputs": [
    {
     "data": {
      "text/plain": [
       "(104272, 15)"
      ]
     },
     "execution_count": 9,
     "metadata": {},
     "output_type": "execute_result"
    }
   ],
   "source": [
    "df.shape"
   ]
  },
  {
   "cell_type": "code",
   "execution_count": 10,
   "id": "e56fced6",
   "metadata": {},
   "outputs": [],
   "source": [
    "# Renaming YearStart to Year\n",
    "df = df.rename(columns = {'YearStart' : 'Year'})"
   ]
  },
  {
   "cell_type": "code",
   "execution_count": null,
   "id": "b59b27ab",
   "metadata": {},
   "outputs": [],
   "source": []
  },
  {
   "cell_type": "markdown",
   "id": "5194a48e",
   "metadata": {},
   "source": [
    "### Handling Missing Values"
   ]
  },
  {
   "cell_type": "code",
   "execution_count": 11,
   "id": "bbc82970",
   "metadata": {},
   "outputs": [
    {
     "data": {
      "text/plain": [
       "751438"
      ]
     },
     "execution_count": 11,
     "metadata": {},
     "output_type": "execute_result"
    }
   ],
   "source": [
    "df.isna().sum().sum()"
   ]
  },
  {
   "cell_type": "code",
   "execution_count": 12,
   "id": "d34cab0c",
   "metadata": {},
   "outputs": [
    {
     "data": {
      "text/plain": [
       "Year                               0\n",
       "Class                              0\n",
       "Data_Value                     10767\n",
       "Data_Value_Footnote_Symbol     93505\n",
       "Data_Value_Footnote            93505\n",
       "Low_Confidence_Limit           10767\n",
       "High_Confidence_Limit          10767\n",
       "Sample_Size                    10767\n",
       "Total                         100548\n",
       "Age(years)                     81928\n",
       "Education                      89376\n",
       "Gender                         96824\n",
       "Income                         78204\n",
       "Race/Ethnicity                 74480\n",
       "LocationID                         0\n",
       "dtype: int64"
      ]
     },
     "execution_count": 12,
     "metadata": {},
     "output_type": "execute_result"
    }
   ],
   "source": [
    "df.isna().sum()"
   ]
  },
  {
   "cell_type": "code",
   "execution_count": 13,
   "id": "6382b008",
   "metadata": {},
   "outputs": [
    {
     "name": "stdout",
     "output_type": "stream",
     "text": [
      "Year                            0.0%\n",
      "Class                           0.0%\n",
      "Data_Value                    10.33%\n",
      "Data_Value_Footnote_Symbol    89.67%\n",
      "Data_Value_Footnote           89.67%\n",
      "Low_Confidence_Limit          10.33%\n",
      "High_Confidence_Limit         10.33%\n",
      "Sample_Size                   10.33%\n",
      "Total                         96.43%\n",
      "Age(years)                    78.57%\n",
      "Education                     85.71%\n",
      "Gender                        92.86%\n",
      "Income                         75.0%\n",
      "Race/Ethnicity                71.43%\n",
      "LocationID                      0.0%\n",
      "dtype: object\n"
     ]
    }
   ],
   "source": [
    "# viewing the percentage of missing value\n",
    "missing_percentage = df.isna().mean() * 100\n",
    "print(missing_percentage.round(2).astype(str) + '%')"
   ]
  },
  {
   "cell_type": "code",
   "execution_count": 14,
   "id": "d121b4bb",
   "metadata": {},
   "outputs": [
    {
     "name": "stdout",
     "output_type": "stream",
     "text": [
      "Columns with more than 70% missing values:\n",
      "Index(['Data_Value_Footnote_Symbol', 'Data_Value_Footnote', 'Total',\n",
      "       'Age(years)', 'Education', 'Gender', 'Income', 'Race/Ethnicity'],\n",
      "      dtype='object')\n"
     ]
    }
   ],
   "source": [
    "# Print out columns with more than 70% missing values\n",
    "missing_columns_to_drop = missing_percentage[missing_percentage > 70].index\n",
    "print(\"Columns with more than 70% missing values:\")\n",
    "print(missing_columns_to_drop)"
   ]
  },
  {
   "cell_type": "code",
   "execution_count": 15,
   "id": "4b28ed80",
   "metadata": {},
   "outputs": [],
   "source": [
    "df = df.drop(columns=missing_columns_to_drop)"
   ]
  },
  {
   "cell_type": "code",
   "execution_count": 16,
   "id": "b0134734",
   "metadata": {},
   "outputs": [
    {
     "data": {
      "text/plain": [
       "Year                         0\n",
       "Class                        0\n",
       "Data_Value               10767\n",
       "Low_Confidence_Limit     10767\n",
       "High_Confidence_Limit    10767\n",
       "Sample_Size              10767\n",
       "LocationID                   0\n",
       "dtype: int64"
      ]
     },
     "execution_count": 16,
     "metadata": {},
     "output_type": "execute_result"
    }
   ],
   "source": [
    "df.isna().sum()"
   ]
  },
  {
   "cell_type": "code",
   "execution_count": 17,
   "id": "2c4d3ee2",
   "metadata": {},
   "outputs": [],
   "source": [
    "# Fiiling the numerical missing values with median\n",
    "\n",
    "df.fillna(df.median(), inplace=True)"
   ]
  },
  {
   "cell_type": "code",
   "execution_count": 18,
   "id": "b3da9bc6",
   "metadata": {
    "scrolled": true
   },
   "outputs": [
    {
     "data": {
      "text/plain": [
       "Year                     0\n",
       "Class                    0\n",
       "Data_Value               0\n",
       "Low_Confidence_Limit     0\n",
       "High_Confidence_Limit    0\n",
       "Sample_Size              0\n",
       "LocationID               0\n",
       "dtype: int64"
      ]
     },
     "execution_count": 18,
     "metadata": {},
     "output_type": "execute_result"
    }
   ],
   "source": [
    "df.isna().sum()"
   ]
  },
  {
   "cell_type": "code",
   "execution_count": 19,
   "id": "d5f6f5b9",
   "metadata": {},
   "outputs": [
    {
     "data": {
      "text/plain": [
       "9250"
      ]
     },
     "execution_count": 19,
     "metadata": {},
     "output_type": "execute_result"
    }
   ],
   "source": [
    "df.duplicated().sum() # Checking for duplicates"
   ]
  },
  {
   "cell_type": "code",
   "execution_count": 20,
   "id": "85dbf97a",
   "metadata": {},
   "outputs": [
    {
     "data": {
      "text/plain": [
       "(104272, 7)"
      ]
     },
     "execution_count": 20,
     "metadata": {},
     "output_type": "execute_result"
    }
   ],
   "source": [
    "df.shape"
   ]
  },
  {
   "cell_type": "code",
   "execution_count": 21,
   "id": "1e6d99a1",
   "metadata": {},
   "outputs": [],
   "source": [
    "def identify_and_remove_outliers(df):\n",
    "    # Create a copy of the dataframe\n",
    "    df_no_outliers = df.copy()\n",
    "    \n",
    "    # Select numerical columns\n",
    "    numerical_columns = df.select_dtypes(include=['float64', 'int64']).columns\n",
    "    \n",
    "    # Dictionary to store outlier counts\n",
    "    outlier_counts = {}\n",
    "    \n",
    "    for column in numerical_columns:\n",
    "        Q1 = df[column].quantile(0.25)\n",
    "        Q3 = df[column].quantile(0.75)\n",
    "        IQR = Q3 - Q1\n",
    "        lower_bound = Q1 - 1.5 * IQR\n",
    "        upper_bound = Q3 + 1.5 * IQR\n",
    "        \n",
    "        # Count outliers\n",
    "        outliers = df[(df[column] < lower_bound) | (df[column] > upper_bound)]\n",
    "        outlier_counts[column] = len(outliers)\n",
    "        \n",
    "        # Remove outliers\n",
    "        df_no_outliers = df_no_outliers[\n",
    "            (df_no_outliers[column] >= lower_bound) & \n",
    "            (df_no_outliers[column] <= upper_bound)\n",
    "        ]\n",
    "    \n",
    "    return df_no_outliers, outlier_counts, df"
   ]
  },
  {
   "cell_type": "code",
   "execution_count": 22,
   "id": "adc560d3",
   "metadata": {},
   "outputs": [
    {
     "name": "stdout",
     "output_type": "stream",
     "text": [
      "Year: 0 outliers removed\n",
      "Data_Value: 4042 outliers removed\n",
      "Low_Confidence_Limit: 3325 outliers removed\n",
      "High_Confidence_Limit: 4288 outliers removed\n",
      "Sample_Size: 10868 outliers removed\n",
      "LocationID: 0 outliers removed\n"
     ]
    }
   ],
   "source": [
    "# Apply the function\n",
    "df_cleaned, outliers_info, df = identify_and_remove_outliers(df)\n",
    "\n",
    "# Print outlier information\n",
    "for column, count in outliers_info.items():\n",
    "    print(f\"{column}: {count} outliers removed\")"
   ]
  },
  {
   "cell_type": "code",
   "execution_count": 23,
   "id": "874ee174",
   "metadata": {},
   "outputs": [
    {
     "data": {
      "text/plain": [
       "(104272, 7)"
      ]
     },
     "execution_count": 23,
     "metadata": {},
     "output_type": "execute_result"
    }
   ],
   "source": [
    "df.shape"
   ]
  },
  {
   "cell_type": "code",
   "execution_count": 24,
   "id": "c9e198f9",
   "metadata": {},
   "outputs": [
    {
     "data": {
      "text/plain": [
       "(88493, 7)"
      ]
     },
     "execution_count": 24,
     "metadata": {},
     "output_type": "execute_result"
    }
   ],
   "source": [
    "df_cleaned.shape"
   ]
  },
  {
   "cell_type": "code",
   "execution_count": 25,
   "id": "d14b7ff7",
   "metadata": {},
   "outputs": [
    {
     "data": {
      "text/plain": [
       "{'Year': 0,\n",
       " 'Data_Value': 4042,\n",
       " 'Low_Confidence_Limit': 3325,\n",
       " 'High_Confidence_Limit': 4288,\n",
       " 'Sample_Size': 10868,\n",
       " 'LocationID': 0}"
      ]
     },
     "execution_count": 25,
     "metadata": {},
     "output_type": "execute_result"
    }
   ],
   "source": [
    "outliers_info"
   ]
  },
  {
   "cell_type": "markdown",
   "id": "200a86b0",
   "metadata": {},
   "source": [
    "### Exploratory Data Analysis (EDA)"
   ]
  },
  {
   "cell_type": "code",
   "execution_count": 26,
   "id": "8391088d",
   "metadata": {},
   "outputs": [
    {
     "data": {
      "text/plain": [
       "Data_Value               1.000000\n",
       "Low_Confidence_Limit     0.953735\n",
       "High_Confidence_Limit    0.929362\n",
       "Year                     0.100770\n",
       "LocationID               0.014651\n",
       "Sample_Size              0.001563\n",
       "Name: Data_Value, dtype: float64"
      ]
     },
     "execution_count": 26,
     "metadata": {},
     "output_type": "execute_result"
    }
   ],
   "source": [
    "numerical_columns = df_cleaned.select_dtypes(include=['float64', 'int64']).columns\n",
    "correlation_matrix = df_cleaned[numerical_columns].corr()\n",
    "\n",
    "correlation_matrix['Data_Value'].sort_values(ascending=False)"
   ]
  },
  {
   "cell_type": "code",
   "execution_count": 27,
   "id": "87948bfd",
   "metadata": {},
   "outputs": [],
   "source": [
    "# since Low_Confidence_Limit and High_Confidence_Limit both have high correlation coefficent i will delete High_Confidence_Limit\n",
    "df_cleaned.drop(columns='High_Confidence_Limit', inplace=True)"
   ]
  },
  {
   "cell_type": "code",
   "execution_count": 28,
   "id": "4e078b4e",
   "metadata": {},
   "outputs": [
    {
     "data": {
      "image/png": "[encoded data removed]",
      "text/plain": [
       "<Figure size 800x600 with 2 Axes>"
      ]
     },
     "metadata": {},
     "output_type": "display_data"
    }
   ],
   "source": [
    "# Correlation Heatmap to see the summary relationship between the features\n",
    "\n",
    "plt.figure(figsize=(8, 6))\n",
    "\n",
    "sns.heatmap(correlation_matrix, annot=True, cmap='coolwarm')\n",
    "plt.title('Correlation Heatmap')\n",
    "plt.show()"
   ]
  },
  {
   "cell_type": "code",
   "execution_count": null,
   "id": "ec09b3a7",
   "metadata": {},
   "outputs": [],
   "source": []
  },
  {
   "cell_type": "code",
   "execution_count": 29,
   "id": "e67743c0",
   "metadata": {},
   "outputs": [
    {
     "data": {
      "text/html": [
       "<div>\n",
       "<style scoped>\n",
       "    .dataframe tbody tr th:only-of-type {\n",
       "        vertical-align: middle;\n",
       "    }\n",
       "\n",
       "    .dataframe tbody tr th {\n",
       "        vertical-align: top;\n",
       "    }\n",
       "\n",
       "    .dataframe thead th {\n",
       "        text-align: right;\n",
       "    }\n",
       "</style>\n",
       "<table border=\"1\" class=\"dataframe\">\n",
       "  <thead>\n",
       "    <tr style=\"text-align: right;\">\n",
       "      <th></th>\n",
       "      <th>Year</th>\n",
       "      <th>Data_Value</th>\n",
       "      <th>Low_Confidence_Limit</th>\n",
       "      <th>Sample_Size</th>\n",
       "      <th>LocationID</th>\n",
       "    </tr>\n",
       "  </thead>\n",
       "  <tbody>\n",
       "    <tr>\n",
       "      <th>count</th>\n",
       "      <td>88493.000000</td>\n",
       "      <td>88493.000000</td>\n",
       "      <td>88493.000000</td>\n",
       "      <td>88493.000000</td>\n",
       "      <td>88493.000000</td>\n",
       "    </tr>\n",
       "    <tr>\n",
       "      <th>mean</th>\n",
       "      <td>2017.023550</td>\n",
       "      <td>30.928268</td>\n",
       "      <td>26.328879</td>\n",
       "      <td>1229.936153</td>\n",
       "      <td>30.579368</td>\n",
       "    </tr>\n",
       "    <tr>\n",
       "      <th>std</th>\n",
       "      <td>3.699672</td>\n",
       "      <td>8.172100</td>\n",
       "      <td>8.132068</td>\n",
       "      <td>990.065807</td>\n",
       "      <td>17.475931</td>\n",
       "    </tr>\n",
       "    <tr>\n",
       "      <th>min</th>\n",
       "      <td>2011.000000</td>\n",
       "      <td>9.400000</td>\n",
       "      <td>4.400000</td>\n",
       "      <td>50.000000</td>\n",
       "      <td>1.000000</td>\n",
       "    </tr>\n",
       "    <tr>\n",
       "      <th>25%</th>\n",
       "      <td>2014.000000</td>\n",
       "      <td>25.800000</td>\n",
       "      <td>20.900000</td>\n",
       "      <td>518.000000</td>\n",
       "      <td>17.000000</td>\n",
       "    </tr>\n",
       "    <tr>\n",
       "      <th>50%</th>\n",
       "      <td>2017.000000</td>\n",
       "      <td>31.700000</td>\n",
       "      <td>27.300000</td>\n",
       "      <td>1085.000000</td>\n",
       "      <td>30.000000</td>\n",
       "    </tr>\n",
       "    <tr>\n",
       "      <th>75%</th>\n",
       "      <td>2020.000000</td>\n",
       "      <td>36.000000</td>\n",
       "      <td>31.500000</td>\n",
       "      <td>1613.000000</td>\n",
       "      <td>44.000000</td>\n",
       "    </tr>\n",
       "    <tr>\n",
       "      <th>max</th>\n",
       "      <td>2023.000000</td>\n",
       "      <td>53.200000</td>\n",
       "      <td>49.500000</td>\n",
       "      <td>4562.000000</td>\n",
       "      <td>78.000000</td>\n",
       "    </tr>\n",
       "  </tbody>\n",
       "</table>\n",
       "</div>"
      ],
      "text/plain": [
       "               Year    Data_Value  Low_Confidence_Limit   Sample_Size  \\\n",
       "count  88493.000000  88493.000000          88493.000000  88493.000000   \n",
       "mean    2017.023550     30.928268             26.328879   1229.936153   \n",
       "std        3.699672      8.172100              8.132068    990.065807   \n",
       "min     2011.000000      9.400000              4.400000     50.000000   \n",
       "25%     2014.000000     25.800000             20.900000    518.000000   \n",
       "50%     2017.000000     31.700000             27.300000   1085.000000   \n",
       "75%     2020.000000     36.000000             31.500000   1613.000000   \n",
       "max     2023.000000     53.200000             49.500000   4562.000000   \n",
       "\n",
       "         LocationID  \n",
       "count  88493.000000  \n",
       "mean      30.579368  \n",
       "std       17.475931  \n",
       "min        1.000000  \n",
       "25%       17.000000  \n",
       "50%       30.000000  \n",
       "75%       44.000000  \n",
       "max       78.000000  "
      ]
     },
     "execution_count": 29,
     "metadata": {},
     "output_type": "execute_result"
    }
   ],
   "source": [
    "df_cleaned.describe()"
   ]
  },
  {
   "cell_type": "code",
   "execution_count": 30,
   "id": "2560ed7c",
   "metadata": {},
   "outputs": [
    {
     "name": "stdout",
     "output_type": "stream",
     "text": [
      "<class 'pandas.core.frame.DataFrame'>\n",
      "Int64Index: 88493 entries, 0 to 104271\n",
      "Data columns (total 6 columns):\n",
      " #   Column                Non-Null Count  Dtype  \n",
      "---  ------                --------------  -----  \n",
      " 0   Year                  88493 non-null  int64  \n",
      " 1   Class                 88493 non-null  object \n",
      " 2   Data_Value            88493 non-null  float64\n",
      " 3   Low_Confidence_Limit  88493 non-null  float64\n",
      " 4   Sample_Size           88493 non-null  float64\n",
      " 5   LocationID            88493 non-null  int64  \n",
      "dtypes: float64(3), int64(2), object(1)\n",
      "memory usage: 4.7+ MB\n"
     ]
    }
   ],
   "source": [
    "df_cleaned.info()"
   ]
  },
  {
   "cell_type": "code",
   "execution_count": 31,
   "id": "54f4a396",
   "metadata": {},
   "outputs": [
    {
     "data": {
      "text/html": [
       "<div>\n",
       "<style scoped>\n",
       "    .dataframe tbody tr th:only-of-type {\n",
       "        vertical-align: middle;\n",
       "    }\n",
       "\n",
       "    .dataframe tbody tr th {\n",
       "        vertical-align: top;\n",
       "    }\n",
       "\n",
       "    .dataframe thead th {\n",
       "        text-align: right;\n",
       "    }\n",
       "</style>\n",
       "<table border=\"1\" class=\"dataframe\">\n",
       "  <thead>\n",
       "    <tr style=\"text-align: right;\">\n",
       "      <th></th>\n",
       "      <th>Year</th>\n",
       "      <th>Class</th>\n",
       "      <th>Data_Value</th>\n",
       "      <th>Low_Confidence_Limit</th>\n",
       "      <th>Sample_Size</th>\n",
       "      <th>LocationID</th>\n",
       "    </tr>\n",
       "  </thead>\n",
       "  <tbody>\n",
       "    <tr>\n",
       "      <th>0</th>\n",
       "      <td>2011</td>\n",
       "      <td>Obesity / Weight Status</td>\n",
       "      <td>23.3</td>\n",
       "      <td>16.1</td>\n",
       "      <td>128.0</td>\n",
       "      <td>2</td>\n",
       "    </tr>\n",
       "    <tr>\n",
       "      <th>1</th>\n",
       "      <td>2011</td>\n",
       "      <td>Obesity / Weight Status</td>\n",
       "      <td>35.5</td>\n",
       "      <td>22.7</td>\n",
       "      <td>63.0</td>\n",
       "      <td>2</td>\n",
       "    </tr>\n",
       "    <tr>\n",
       "      <th>2</th>\n",
       "      <td>2011</td>\n",
       "      <td>Physical Activity</td>\n",
       "      <td>21.7</td>\n",
       "      <td>19.1</td>\n",
       "      <td>1702.0</td>\n",
       "      <td>2</td>\n",
       "    </tr>\n",
       "  </tbody>\n",
       "</table>\n",
       "</div>"
      ],
      "text/plain": [
       "   Year                    Class  Data_Value  Low_Confidence_Limit  \\\n",
       "0  2011  Obesity / Weight Status        23.3                  16.1   \n",
       "1  2011  Obesity / Weight Status        35.5                  22.7   \n",
       "2  2011        Physical Activity        21.7                  19.1   \n",
       "\n",
       "   Sample_Size  LocationID  \n",
       "0        128.0           2  \n",
       "1         63.0           2  \n",
       "2       1702.0           2  "
      ]
     },
     "execution_count": 31,
     "metadata": {},
     "output_type": "execute_result"
    }
   ],
   "source": [
    "df_cleaned.head(3)"
   ]
  },
  {
   "cell_type": "code",
   "execution_count": null,
   "id": "ff0e963c",
   "metadata": {},
   "outputs": [],
   "source": []
  },
  {
   "cell_type": "code",
   "execution_count": 32,
   "id": "9cc7ed17",
   "metadata": {},
   "outputs": [],
   "source": [
    "# Let's see the Distribution of the features "
   ]
  },
  {
   "cell_type": "code",
   "execution_count": 33,
   "id": "1113d4ae",
   "metadata": {},
   "outputs": [
    {
     "data": {
      "image/png": "[encoded data removed]",
      "text/plain": [
       "<Figure size 1200x800 with 5 Axes>"
      ]
     },
     "metadata": {},
     "output_type": "display_data"
    }
   ],
   "source": [
    "# Visualizing the distribution of df_age\n",
    "numerical_columns = df_cleaned.select_dtypes(include=['float64', 'int64']).columns\n",
    "\n",
    "plt.figure(figsize=(12, 8))\n",
    "for i, feature in enumerate(numerical_columns, 1): # Looping through each numerical feature\n",
    "    plt.subplot(2, 3, i) # Creating a subplot for each feature, arranged in a 2x3 grid\n",
    "    sns.boxplot(df_cleaned[feature], orient='h') # boxplot for the features distribution\n",
    "    \n",
    "plt.tight_layout() # Adjusting subplots to fit neatly into the figure\n",
    "plt.show() # Displaying the plot"
   ]
  },
  {
   "cell_type": "code",
   "execution_count": null,
   "id": "467df11d",
   "metadata": {},
   "outputs": [],
   "source": []
  },
  {
   "cell_type": "code",
   "execution_count": 34,
   "id": "2df4bbf7",
   "metadata": {},
   "outputs": [
    {
     "data": {
      "image/png": "[encoded data removed]",
      "text/plain": [
       "<Figure size 1200x800 with 5 Axes>"
      ]
     },
     "metadata": {},
     "output_type": "display_data"
    }
   ],
   "source": [
    "# Visualizing the distribution of df_age\n",
    "\n",
    "plt.figure(figsize=(12, 8))\n",
    "for i, feature in enumerate(numerical_columns, 1): # Looping through each numerical feature\n",
    "    plt.subplot(2, 3, i) # Creating a subplot for each feature, arranged in a 2x3 grid\n",
    "    sns.histplot(df_cleaned[feature], kde=True) # histplot for the features distribution\n",
    "    \n",
    "plt.tight_layout() # Adjusting subplots to fit neatly into the figure\n",
    "plt.show() # Displaying the plot"
   ]
  },
  {
   "cell_type": "code",
   "execution_count": null,
   "id": "4d890839",
   "metadata": {},
   "outputs": [],
   "source": []
  },
  {
   "cell_type": "code",
   "execution_count": 35,
   "id": "0d6fd541",
   "metadata": {},
   "outputs": [
    {
     "data": {
      "text/html": [
       "<div>\n",
       "<style scoped>\n",
       "    .dataframe tbody tr th:only-of-type {\n",
       "        vertical-align: middle;\n",
       "    }\n",
       "\n",
       "    .dataframe tbody tr th {\n",
       "        vertical-align: top;\n",
       "    }\n",
       "\n",
       "    .dataframe thead th {\n",
       "        text-align: right;\n",
       "    }\n",
       "</style>\n",
       "<table border=\"1\" class=\"dataframe\">\n",
       "  <thead>\n",
       "    <tr style=\"text-align: right;\">\n",
       "      <th></th>\n",
       "      <th>Year</th>\n",
       "      <th>Class</th>\n",
       "      <th>Data_Value</th>\n",
       "      <th>Low_Confidence_Limit</th>\n",
       "      <th>Sample_Size</th>\n",
       "      <th>LocationID</th>\n",
       "    </tr>\n",
       "  </thead>\n",
       "  <tbody>\n",
       "    <tr>\n",
       "      <th>0</th>\n",
       "      <td>2011</td>\n",
       "      <td>Obesity / Weight Status</td>\n",
       "      <td>23.3</td>\n",
       "      <td>16.1</td>\n",
       "      <td>128.0</td>\n",
       "      <td>2</td>\n",
       "    </tr>\n",
       "    <tr>\n",
       "      <th>1</th>\n",
       "      <td>2011</td>\n",
       "      <td>Obesity / Weight Status</td>\n",
       "      <td>35.5</td>\n",
       "      <td>22.7</td>\n",
       "      <td>63.0</td>\n",
       "      <td>2</td>\n",
       "    </tr>\n",
       "    <tr>\n",
       "      <th>2</th>\n",
       "      <td>2011</td>\n",
       "      <td>Physical Activity</td>\n",
       "      <td>21.7</td>\n",
       "      <td>19.1</td>\n",
       "      <td>1702.0</td>\n",
       "      <td>2</td>\n",
       "    </tr>\n",
       "  </tbody>\n",
       "</table>\n",
       "</div>"
      ],
      "text/plain": [
       "   Year                    Class  Data_Value  Low_Confidence_Limit  \\\n",
       "0  2011  Obesity / Weight Status        23.3                  16.1   \n",
       "1  2011  Obesity / Weight Status        35.5                  22.7   \n",
       "2  2011        Physical Activity        21.7                  19.1   \n",
       "\n",
       "   Sample_Size  LocationID  \n",
       "0        128.0           2  \n",
       "1         63.0           2  \n",
       "2       1702.0           2  "
      ]
     },
     "execution_count": 35,
     "metadata": {},
     "output_type": "execute_result"
    }
   ],
   "source": [
    "df_cleaned.head(3)"
   ]
  },
  {
   "cell_type": "code",
   "execution_count": 36,
   "id": "cbfc4f72",
   "metadata": {},
   "outputs": [
    {
     "data": {
      "text/plain": [
       "array(['Obesity / Weight Status', 'Physical Activity',\n",
       "       'Fruits and Vegetables'], dtype=object)"
      ]
     },
     "execution_count": 36,
     "metadata": {},
     "output_type": "execute_result"
    }
   ],
   "source": [
    "df_cleaned.Class.unique()"
   ]
  },
  {
   "cell_type": "code",
   "execution_count": 37,
   "id": "770018f9",
   "metadata": {},
   "outputs": [],
   "source": [
    "# OneHotEncoding"
   ]
  },
  {
   "cell_type": "code",
   "execution_count": 38,
   "id": "90816f91",
   "metadata": {},
   "outputs": [],
   "source": [
    "from sklearn.preprocessing import OneHotEncoder"
   ]
  },
  {
   "cell_type": "code",
   "execution_count": 39,
   "id": "c3ad91f6",
   "metadata": {},
   "outputs": [],
   "source": [
    "##create an instance of Onehotencoder\n",
    "encoder=OneHotEncoder()"
   ]
  },
  {
   "cell_type": "code",
   "execution_count": 40,
   "id": "bcd7c53f",
   "metadata": {},
   "outputs": [],
   "source": [
    "## perform fit and transform\n",
    "encoded=encoder.fit_transform(df_cleaned[['Class']]).toarray()"
   ]
  },
  {
   "cell_type": "code",
   "execution_count": 41,
   "id": "ced4b0be",
   "metadata": {},
   "outputs": [
    {
     "data": {
      "text/plain": [
       "array([[0., 1., 0.],\n",
       "       [0., 1., 0.],\n",
       "       [0., 0., 1.],\n",
       "       ...,\n",
       "       [0., 0., 1.],\n",
       "       [0., 0., 1.],\n",
       "       [0., 0., 1.]])"
      ]
     },
     "execution_count": 41,
     "metadata": {},
     "output_type": "execute_result"
    }
   ],
   "source": [
    "encoded"
   ]
  },
  {
   "cell_type": "code",
   "execution_count": 42,
   "id": "2e46e4fa",
   "metadata": {},
   "outputs": [],
   "source": [
    "encoder_df=pd.DataFrame(encoded,columns=encoder.get_feature_names_out())"
   ]
  },
  {
   "cell_type": "code",
   "execution_count": 43,
   "id": "b337cd74",
   "metadata": {},
   "outputs": [
    {
     "data": {
      "text/html": [
       "<div>\n",
       "<style scoped>\n",
       "    .dataframe tbody tr th:only-of-type {\n",
       "        vertical-align: middle;\n",
       "    }\n",
       "\n",
       "    .dataframe tbody tr th {\n",
       "        vertical-align: top;\n",
       "    }\n",
       "\n",
       "    .dataframe thead th {\n",
       "        text-align: right;\n",
       "    }\n",
       "</style>\n",
       "<table border=\"1\" class=\"dataframe\">\n",
       "  <thead>\n",
       "    <tr style=\"text-align: right;\">\n",
       "      <th></th>\n",
       "      <th>Class_Fruits and Vegetables</th>\n",
       "      <th>Class_Obesity / Weight Status</th>\n",
       "      <th>Class_Physical Activity</th>\n",
       "    </tr>\n",
       "  </thead>\n",
       "  <tbody>\n",
       "    <tr>\n",
       "      <th>0</th>\n",
       "      <td>0.0</td>\n",
       "      <td>1.0</td>\n",
       "      <td>0.0</td>\n",
       "    </tr>\n",
       "    <tr>\n",
       "      <th>1</th>\n",
       "      <td>0.0</td>\n",
       "      <td>1.0</td>\n",
       "      <td>0.0</td>\n",
       "    </tr>\n",
       "    <tr>\n",
       "      <th>2</th>\n",
       "      <td>0.0</td>\n",
       "      <td>0.0</td>\n",
       "      <td>1.0</td>\n",
       "    </tr>\n",
       "    <tr>\n",
       "      <th>3</th>\n",
       "      <td>0.0</td>\n",
       "      <td>1.0</td>\n",
       "      <td>0.0</td>\n",
       "    </tr>\n",
       "    <tr>\n",
       "      <th>4</th>\n",
       "      <td>0.0</td>\n",
       "      <td>1.0</td>\n",
       "      <td>0.0</td>\n",
       "    </tr>\n",
       "  </tbody>\n",
       "</table>\n",
       "</div>"
      ],
      "text/plain": [
       "   Class_Fruits and Vegetables  Class_Obesity / Weight Status  \\\n",
       "0                          0.0                            1.0   \n",
       "1                          0.0                            1.0   \n",
       "2                          0.0                            0.0   \n",
       "3                          0.0                            1.0   \n",
       "4                          0.0                            1.0   \n",
       "\n",
       "   Class_Physical Activity  \n",
       "0                      0.0  \n",
       "1                      0.0  \n",
       "2                      1.0  \n",
       "3                      0.0  \n",
       "4                      0.0  "
      ]
     },
     "execution_count": 43,
     "metadata": {},
     "output_type": "execute_result"
    }
   ],
   "source": [
    "encoder_df.head()"
   ]
  },
  {
   "cell_type": "code",
   "execution_count": 44,
   "id": "78276e08",
   "metadata": {},
   "outputs": [],
   "source": [
    "df_encoded = pd.concat([df_cleaned,encoder_df],axis=1)"
   ]
  },
  {
   "cell_type": "code",
   "execution_count": 45,
   "id": "ada7fcd0",
   "metadata": {},
   "outputs": [
    {
     "data": {
      "text/plain": [
       "Year                             12983\n",
       "Class                            12983\n",
       "Data_Value                       12983\n",
       "Low_Confidence_Limit             12983\n",
       "Sample_Size                      12983\n",
       "LocationID                       12983\n",
       "Class_Fruits and Vegetables      12983\n",
       "Class_Obesity / Weight Status    12983\n",
       "Class_Physical Activity          12983\n",
       "dtype: int64"
      ]
     },
     "execution_count": 45,
     "metadata": {},
     "output_type": "execute_result"
    }
   ],
   "source": [
    "df_encoded.isna().sum()"
   ]
  },
  {
   "cell_type": "code",
   "execution_count": 46,
   "id": "f5c419b0",
   "metadata": {},
   "outputs": [],
   "source": [
    "df_encoded.dropna(inplace=True)"
   ]
  },
  {
   "cell_type": "code",
   "execution_count": 47,
   "id": "874a4dbf",
   "metadata": {},
   "outputs": [],
   "source": [
    "df_encoded.drop(columns = 'Class', inplace=True)"
   ]
  },
  {
   "cell_type": "code",
   "execution_count": 48,
   "id": "8ac74dec",
   "metadata": {},
   "outputs": [
    {
     "data": {
      "text/html": [
       "<div>\n",
       "<style scoped>\n",
       "    .dataframe tbody tr th:only-of-type {\n",
       "        vertical-align: middle;\n",
       "    }\n",
       "\n",
       "    .dataframe tbody tr th {\n",
       "        vertical-align: top;\n",
       "    }\n",
       "\n",
       "    .dataframe thead th {\n",
       "        text-align: right;\n",
       "    }\n",
       "</style>\n",
       "<table border=\"1\" class=\"dataframe\">\n",
       "  <thead>\n",
       "    <tr style=\"text-align: right;\">\n",
       "      <th></th>\n",
       "      <th>Year</th>\n",
       "      <th>Data_Value</th>\n",
       "      <th>Low_Confidence_Limit</th>\n",
       "      <th>Sample_Size</th>\n",
       "      <th>LocationID</th>\n",
       "      <th>Class_Fruits and Vegetables</th>\n",
       "      <th>Class_Obesity / Weight Status</th>\n",
       "      <th>Class_Physical Activity</th>\n",
       "    </tr>\n",
       "  </thead>\n",
       "  <tbody>\n",
       "    <tr>\n",
       "      <th>0</th>\n",
       "      <td>2011.0</td>\n",
       "      <td>23.3</td>\n",
       "      <td>16.1</td>\n",
       "      <td>128.0</td>\n",
       "      <td>2.0</td>\n",
       "      <td>0.0</td>\n",
       "      <td>1.0</td>\n",
       "      <td>0.0</td>\n",
       "    </tr>\n",
       "    <tr>\n",
       "      <th>1</th>\n",
       "      <td>2011.0</td>\n",
       "      <td>35.5</td>\n",
       "      <td>22.7</td>\n",
       "      <td>63.0</td>\n",
       "      <td>2.0</td>\n",
       "      <td>0.0</td>\n",
       "      <td>1.0</td>\n",
       "      <td>0.0</td>\n",
       "    </tr>\n",
       "    <tr>\n",
       "      <th>2</th>\n",
       "      <td>2011.0</td>\n",
       "      <td>21.7</td>\n",
       "      <td>19.1</td>\n",
       "      <td>1702.0</td>\n",
       "      <td>2.0</td>\n",
       "      <td>0.0</td>\n",
       "      <td>0.0</td>\n",
       "      <td>1.0</td>\n",
       "    </tr>\n",
       "    <tr>\n",
       "      <th>3</th>\n",
       "      <td>2011.0</td>\n",
       "      <td>29.5</td>\n",
       "      <td>24.5</td>\n",
       "      <td>562.0</td>\n",
       "      <td>2.0</td>\n",
       "      <td>0.0</td>\n",
       "      <td>1.0</td>\n",
       "      <td>0.0</td>\n",
       "    </tr>\n",
       "    <tr>\n",
       "      <th>4</th>\n",
       "      <td>2011.0</td>\n",
       "      <td>33.5</td>\n",
       "      <td>26.2</td>\n",
       "      <td>377.0</td>\n",
       "      <td>2.0</td>\n",
       "      <td>0.0</td>\n",
       "      <td>1.0</td>\n",
       "      <td>0.0</td>\n",
       "    </tr>\n",
       "  </tbody>\n",
       "</table>\n",
       "</div>"
      ],
      "text/plain": [
       "     Year  Data_Value  Low_Confidence_Limit  Sample_Size  LocationID  \\\n",
       "0  2011.0        23.3                  16.1        128.0         2.0   \n",
       "1  2011.0        35.5                  22.7         63.0         2.0   \n",
       "2  2011.0        21.7                  19.1       1702.0         2.0   \n",
       "3  2011.0        29.5                  24.5        562.0         2.0   \n",
       "4  2011.0        33.5                  26.2        377.0         2.0   \n",
       "\n",
       "   Class_Fruits and Vegetables  Class_Obesity / Weight Status  \\\n",
       "0                          0.0                            1.0   \n",
       "1                          0.0                            1.0   \n",
       "2                          0.0                            0.0   \n",
       "3                          0.0                            1.0   \n",
       "4                          0.0                            1.0   \n",
       "\n",
       "   Class_Physical Activity  \n",
       "0                      0.0  \n",
       "1                      0.0  \n",
       "2                      1.0  \n",
       "3                      0.0  \n",
       "4                      0.0  "
      ]
     },
     "execution_count": 48,
     "metadata": {},
     "output_type": "execute_result"
    }
   ],
   "source": [
    "df_encoded.head()"
   ]
  },
  {
   "cell_type": "code",
   "execution_count": null,
   "id": "1f5db636",
   "metadata": {},
   "outputs": [],
   "source": []
  },
  {
   "cell_type": "code",
   "execution_count": null,
   "id": "c68aada7",
   "metadata": {},
   "outputs": [],
   "source": []
  },
  {
   "cell_type": "code",
   "execution_count": 52,
   "id": "cebea713",
   "metadata": {},
   "outputs": [
    {
     "name": "stdout",
     "output_type": "stream",
     "text": [
      "<class 'pandas.core.frame.DataFrame'>\n",
      "Int64Index: 75510 entries, 0 to 88492\n",
      "Data columns (total 8 columns):\n",
      " #   Column                         Non-Null Count  Dtype  \n",
      "---  ------                         --------------  -----  \n",
      " 0   Year                           75510 non-null  float64\n",
      " 1   Data_Value                     75510 non-null  float64\n",
      " 2   Low_Confidence_Limit           75510 non-null  float64\n",
      " 3   Sample_Size                    75510 non-null  float64\n",
      " 4   LocationID                     75510 non-null  float64\n",
      " 5   Class_Fruits and Vegetables    75510 non-null  float64\n",
      " 6   Class_Obesity / Weight Status  75510 non-null  float64\n",
      " 7   Class_Physical Activity        75510 non-null  float64\n",
      "dtypes: float64(8)\n",
      "memory usage: 5.2 MB\n"
     ]
    }
   ],
   "source": [
    "df_encoded.info()"
   ]
  },
  {
   "cell_type": "code",
   "execution_count": null,
   "id": "5db63003",
   "metadata": {},
   "outputs": [],
   "source": []
  },
  {
   "cell_type": "code",
   "execution_count": 52,
   "id": "fbed630f",
   "metadata": {},
   "outputs": [],
   "source": []
  },
  {
   "cell_type": "code",
   "execution_count": null,
   "id": "c9069f20",
   "metadata": {},
   "outputs": [],
   "source": []
  },
  {
   "cell_type": "code",
   "execution_count": 54,
   "id": "51477aec",
   "metadata": {},
   "outputs": [],
   "source": [
    "# Seperating the features\n",
    "\n",
    "\n",
    "X = df_encoded.drop('Data_Value', axis=1) # Dropping the Target variable\n",
    "y = df_encoded['Data_Value'] # Creating a series of the Target variable \n",
    "\n"
   ]
  },
  {
   "cell_type": "code",
   "execution_count": null,
   "id": "7b54c3d3",
   "metadata": {},
   "outputs": [],
   "source": []
  },
  {
   "cell_type": "code",
   "execution_count": 58,
   "id": "7f35f875",
   "metadata": {},
   "outputs": [],
   "source": [
    "# Split Train and Test Dataset\n",
    "\n",
    "from sklearn.model_selection import train_test_split\n",
    "\n",
    "X_train, X_test, y_train, y_test = train_test_split(X, y, test_size=0.2, random_state=42, stratify=y) # Splitting the data"
   ]
  },
  {
   "cell_type": "code",
   "execution_count": null,
   "id": "cb226644",
   "metadata": {},
   "outputs": [],
   "source": []
  },
  {
   "cell_type": "code",
   "execution_count": 59,
   "id": "319c67e5",
   "metadata": {},
   "outputs": [],
   "source": [
    "# Standardizing\n",
    "from sklearn.preprocessing import StandardScaler"
   ]
  },
  {
   "cell_type": "code",
   "execution_count": 60,
   "id": "ea9a376f",
   "metadata": {},
   "outputs": [],
   "source": [
    "scaler=StandardScaler()\n",
    "X_train=scaler.fit_transform(X_train)"
   ]
  },
  {
   "cell_type": "code",
   "execution_count": 61,
   "id": "db427a0b",
   "metadata": {},
   "outputs": [],
   "source": [
    "X_test=scaler.transform(X_test)"
   ]
  },
  {
   "cell_type": "code",
   "execution_count": null,
   "id": "3dc57305",
   "metadata": {},
   "outputs": [],
   "source": []
  },
  {
   "cell_type": "code",
   "execution_count": null,
   "id": "8073a661",
   "metadata": {},
   "outputs": [],
   "source": []
  },
  {
   "cell_type": "code",
   "execution_count": null,
   "id": "6172e721",
   "metadata": {},
   "outputs": [],
   "source": []
  },
  {
   "cell_type": "code",
   "execution_count": 66,
   "id": "df34a763",
   "metadata": {},
   "outputs": [
    {
     "data": {
      "text/html": [
       "<style>#sk-container-id-1 {color: black;}#sk-container-id-1 pre{padding: 0;}#sk-container-id-1 div.sk-toggleable {background-color: white;}#sk-container-id-1 label.sk-toggleable__label {cursor: pointer;display: block;width: 100%;margin-bottom: 0;padding: 0.3em;box-sizing: border-box;text-align: center;}#sk-container-id-1 label.sk-toggleable__label-arrow:before {content: \"▸\";float: left;margin-right: 0.25em;color: #696969;}#sk-container-id-1 label.sk-toggleable__label-arrow:hover:before {color: black;}#sk-container-id-1 div.sk-estimator:hover label.sk-toggleable__label-arrow:before {color: black;}#sk-container-id-1 div.sk-toggleable__content {max-height: 0;max-width: 0;overflow: hidden;text-align: left;background-color: #f0f8ff;}#sk-container-id-1 div.sk-toggleable__content pre {margin: 0.2em;color: black;border-radius: 0.25em;background-color: #f0f8ff;}#sk-container-id-1 input.sk-toggleable__control:checked~div.sk-toggleable__content {max-height: 200px;max-width: 100%;overflow: auto;}#sk-container-id-1 input.sk-toggleable__control:checked~label.sk-toggleable__label-arrow:before {content: \"▾\";}#sk-container-id-1 div.sk-estimator input.sk-toggleable__control:checked~label.sk-toggleable__label {background-color: #d4ebff;}#sk-container-id-1 div.sk-label input.sk-toggleable__control:checked~label.sk-toggleable__label {background-color: #d4ebff;}#sk-container-id-1 input.sk-hidden--visually {border: 0;clip: rect(1px 1px 1px 1px);clip: rect(1px, 1px, 1px, 1px);height: 1px;margin: -1px;overflow: hidden;padding: 0;position: absolute;width: 1px;}#sk-container-id-1 div.sk-estimator {font-family: monospace;background-color: #f0f8ff;border: 1px dotted black;border-radius: 0.25em;box-sizing: border-box;margin-bottom: 0.5em;}#sk-container-id-1 div.sk-estimator:hover {background-color: #d4ebff;}#sk-container-id-1 div.sk-parallel-item::after {content: \"\";width: 100%;border-bottom: 1px solid gray;flex-grow: 1;}#sk-container-id-1 div.sk-label:hover label.sk-toggleable__label {background-color: #d4ebff;}#sk-container-id-1 div.sk-serial::before {content: \"\";position: absolute;border-left: 1px solid gray;box-sizing: border-box;top: 0;bottom: 0;left: 50%;z-index: 0;}#sk-container-id-1 div.sk-serial {display: flex;flex-direction: column;align-items: center;background-color: white;padding-right: 0.2em;padding-left: 0.2em;position: relative;}#sk-container-id-1 div.sk-item {position: relative;z-index: 1;}#sk-container-id-1 div.sk-parallel {display: flex;align-items: stretch;justify-content: center;background-color: white;position: relative;}#sk-container-id-1 div.sk-item::before, #sk-container-id-1 div.sk-parallel-item::before {content: \"\";position: absolute;border-left: 1px solid gray;box-sizing: border-box;top: 0;bottom: 0;left: 50%;z-index: -1;}#sk-container-id-1 div.sk-parallel-item {display: flex;flex-direction: column;z-index: 1;position: relative;background-color: white;}#sk-container-id-1 div.sk-parallel-item:first-child::after {align-self: flex-end;width: 50%;}#sk-container-id-1 div.sk-parallel-item:last-child::after {align-self: flex-start;width: 50%;}#sk-container-id-1 div.sk-parallel-item:only-child::after {width: 0;}#sk-container-id-1 div.sk-dashed-wrapped {border: 1px dashed gray;margin: 0 0.4em 0.5em 0.4em;box-sizing: border-box;padding-bottom: 0.4em;background-color: white;}#sk-container-id-1 div.sk-label label {font-family: monospace;font-weight: bold;display: inline-block;line-height: 1.2em;}#sk-container-id-1 div.sk-label-container {text-align: center;}#sk-container-id-1 div.sk-container {/* jupyter's `normalize.less` sets `[hidden] { display: none; }` but bootstrap.min.css set `[hidden] { display: none !important; }` so we also need the `!important` here to be able to override the default hidden behavior on the sphinx rendered scikit-learn.org. See: https://github.com/scikit-learn/scikit-learn/issues/21755 */display: inline-block !important;position: relative;}#sk-container-id-1 div.sk-text-repr-fallback {display: none;}</style><div id=\"sk-container-id-1\" class=\"sk-top-container\"><div class=\"sk-text-repr-fallback\"><pre>LinearRegression()</pre><b>In a Jupyter environment, please rerun this cell to show the HTML representation or trust the notebook. <br />On GitHub, the HTML representation is unable to render, please try loading this page with nbviewer.org.</b></div><div class=\"sk-container\" hidden><div class=\"sk-item\"><div class=\"sk-estimator sk-toggleable\"><input class=\"sk-toggleable__control sk-hidden--visually\" id=\"sk-estimator-id-1\" type=\"checkbox\" checked><label for=\"sk-estimator-id-1\" class=\"sk-toggleable__label sk-toggleable__label-arrow\">LinearRegression</label><div class=\"sk-toggleable__content\"><pre>LinearRegression()</pre></div></div></div></div></div>"
      ],
      "text/plain": [
       "LinearRegression()"
      ]
     },
     "execution_count": 66,
     "metadata": {},
     "output_type": "execute_result"
    }
   ],
   "source": [
    "# Apply Simple linear regression\n",
    "\n",
    "from sklearn.linear_model import LinearRegression\n",
    "\n",
    "\n",
    "# Create Linear Regression model\n",
    "model = LinearRegression()\n",
    "\n",
    "# Fit the model\n",
    "model.fit(X_train, y_train)"
   ]
  },
  {
   "cell_type": "code",
   "execution_count": 67,
   "id": "4186b050",
   "metadata": {},
   "outputs": [
    {
     "name": "stdout",
     "output_type": "stream",
     "text": [
      "Coefficent or slope: [-4.52229479e-03  8.17728392e+00 -1.67635619e+00  8.10663098e-03\n",
      " -5.68265359e+12 -9.68635413e+12 -9.91237543e+12]\n",
      "Intercept: 30.598269638595948\n"
     ]
    }
   ],
   "source": [
    "print('Coefficent or slope:', model.coef_)\n",
    "print('Intercept:', model.intercept_)"
   ]
  },
  {
   "cell_type": "code",
   "execution_count": null,
   "id": "029e2b31",
   "metadata": {},
   "outputs": [],
   "source": []
  },
  {
   "cell_type": "code",
   "execution_count": null,
   "id": "878fe1b0",
   "metadata": {},
   "outputs": [],
   "source": []
  },
  {
   "cell_type": "code",
   "execution_count": 89,
   "id": "ec04b907",
   "metadata": {},
   "outputs": [],
   "source": [
    "# Make predictions\n",
    "y_pred = model.predict(X_test)\n",
    "    \n",
    "    \n",
    "# Store the first ten predictions\n",
    "predictions = y_pred\n",
    "# predictions = y_pred[:10]"
   ]
  },
  {
   "cell_type": "code",
   "execution_count": null,
   "id": "3cdb0a7d",
   "metadata": {},
   "outputs": [],
   "source": []
  },
  {
   "cell_type": "code",
   "execution_count": 90,
   "id": "e9691a26",
   "metadata": {},
   "outputs": [],
   "source": [
    "from sklearn.metrics import mean_squared_error, mean_absolute_error, r2_score\n",
    "\n",
    "# Calculate RMSE MSE, MAE, and R²\n",
    "mse=mean_squared_error(y_test,y_pred)\n",
    "rmse = np.sqrt(mse)\n",
    "mae=mean_absolute_error(y_test,y_pred)\n",
    "r2 = r2_score(y_test, y_pred)\n",
    "    \n",
    " # Store the results\n",
    "results = {'MSE':mse, 'RMSE': rmse, 'MAE':mae,  'R²': r2}"
   ]
  },
  {
   "cell_type": "code",
   "execution_count": 91,
   "id": "be76f614",
   "metadata": {},
   "outputs": [
    {
     "data": {
      "text/plain": [
       "{'MSE': 3.3509831744323213,\n",
       " 'RMSE': 1.8305690848564884,\n",
       " 'MAE': 1.2449911266121725,\n",
       " 'R²': 0.9501043086205175}"
      ]
     },
     "execution_count": 91,
     "metadata": {},
     "output_type": "execute_result"
    }
   ],
   "source": [
    "results"
   ]
  },
  {
   "cell_type": "code",
   "execution_count": 94,
   "id": "539fd1f5",
   "metadata": {},
   "outputs": [
    {
     "data": {
      "text/plain": [
       "array([42.77689915, 24.51908665, 21.73002415, ..., 18.46212272,\n",
       "       26.6323679 , 38.11251334])"
      ]
     },
     "execution_count": 94,
     "metadata": {},
     "output_type": "execute_result"
    }
   ],
   "source": [
    "predictions"
   ]
  },
  {
   "cell_type": "code",
   "execution_count": null,
   "id": "0f74d48f",
   "metadata": {},
   "outputs": [],
   "source": []
  },
  {
   "cell_type": "code",
   "execution_count": null,
   "id": "698193c3",
   "metadata": {},
   "outputs": [],
   "source": []
  },
  {
   "cell_type": "code",
   "execution_count": 95,
   "id": "80eed502",
   "metadata": {},
   "outputs": [],
   "source": [
    "## OLS Linear Regression\n",
    "import statsmodels.api as sm"
   ]
  },
  {
   "cell_type": "code",
   "execution_count": 96,
   "id": "1a1c1abc",
   "metadata": {},
   "outputs": [],
   "source": [
    "olsmodel=sm.OLS(y_train,X_train).fit()"
   ]
  },
  {
   "cell_type": "code",
   "execution_count": 97,
   "id": "0d7cf1ff",
   "metadata": {},
   "outputs": [
    {
     "data": {
      "text/plain": [
       "array([ 12.16039179,  -6.07642762,  -8.87999472, ..., -12.14737957,\n",
       "        -3.96413519,   7.50116437])"
      ]
     },
     "execution_count": 97,
     "metadata": {},
     "output_type": "execute_result"
    }
   ],
   "source": [
    "olsprediction=olsmodel.predict(X_test)\n",
    "olsprediction"
   ]
  },
  {
   "cell_type": "code",
   "execution_count": 98,
   "id": "470d062c",
   "metadata": {},
   "outputs": [
    {
     "name": "stdout",
     "output_type": "stream",
     "text": [
      "                                 OLS Regression Results                                \n",
      "=======================================================================================\n",
      "Dep. Variable:             Data_Value   R-squared (uncentered):                   0.064\n",
      "Model:                            OLS   Adj. R-squared (uncentered):              0.064\n",
      "Method:                 Least Squares   F-statistic:                              685.1\n",
      "Date:                Sat, 28 Dec 2024   Prob (F-statistic):                        0.00\n",
      "Time:                        10:19:15   Log-Likelihood:                     -2.9247e+05\n",
      "No. Observations:               60408   AIC:                                  5.850e+05\n",
      "Df Residuals:                   60402   BIC:                                  5.850e+05\n",
      "Df Model:                           6                                                  \n",
      "Covariance Type:            nonrobust                                                  \n",
      "==============================================================================\n",
      "                 coef    std err          t      P>|t|      [0.025      0.975]\n",
      "------------------------------------------------------------------------------\n",
      "x1            -0.0111      0.127     -0.087      0.930      -0.260       0.238\n",
      "x2             8.1756      0.128     64.016      0.000       7.925       8.426\n",
      "x3            -1.6784      0.128    -13.126      0.000      -1.929      -1.428\n",
      "x4             0.0074      0.125      0.059      0.953      -0.238       0.253\n",
      "x5            -0.0242      0.108     -0.223      0.824      -0.237       0.188\n",
      "x6            -0.0017      0.074     -0.023      0.982      -0.146       0.143\n",
      "x7             0.0155      0.071      0.217      0.828      -0.124       0.155\n",
      "==============================================================================\n",
      "Omnibus:                    27503.210   Durbin-Watson:                   0.007\n",
      "Prob(Omnibus):                  0.000   Jarque-Bera (JB):           148037.575\n",
      "Skew:                           2.186   Prob(JB):                         0.00\n",
      "Kurtosis:                       9.301   Cond. No.                     2.80e+15\n",
      "==============================================================================\n",
      "\n",
      "Notes:\n",
      "[1] R² is computed without centering (uncentered) since the model does not contain a constant.\n",
      "[2] Standard Errors assume that the covariance matrix of the errors is correctly specified.\n",
      "[3] The smallest eigenvalue is 1.43e-26. This might indicate that there are\n",
      "strong multicollinearity problems or that the design matrix is singular.\n"
     ]
    }
   ],
   "source": [
    "print(olsmodel.summary())"
   ]
  },
  {
   "cell_type": "code",
   "execution_count": null,
   "id": "b603968d",
   "metadata": {},
   "outputs": [],
   "source": []
  },
  {
   "cell_type": "code",
   "execution_count": null,
   "id": "c178767c",
   "metadata": {},
   "outputs": [],
   "source": []
  },
  {
   "cell_type": "code",
   "execution_count": null,
   "id": "64d36a13",
   "metadata": {},
   "outputs": [],
   "source": []
  },
  {
   "cell_type": "code",
   "execution_count": null,
   "id": "572031e1",
   "metadata": {},
   "outputs": [],
   "source": []
  },
  {
   "cell_type": "code",
   "execution_count": null,
   "id": "2007a990",
   "metadata": {},
   "outputs": [],
   "source": []
  },
  {
   "cell_type": "code",
   "execution_count": 81,
   "id": "a5715bc8",
   "metadata": {},
   "outputs": [
    {
     "name": "stdout",
     "output_type": "stream",
     "text": [
      "\n",
      "Prediction Statistics:\n",
      "Mean: 28.29\n",
      "Median: 28.97\n",
      "Std Dev: 8.56\n",
      "Min: 14.80\n",
      "Max: 42.78\n",
      "Range: 27.98\n",
      "\n",
      "Percentage Error Analysis:\n",
      "RMSE as % of mean prediction: 6.47%\n",
      "MAE as % of mean prediction: 4.40%\n",
      "\n",
      "Relative Error Ranges:\n",
      "Minimum: 2.91%\n",
      "Maximum: 8.41%\n"
     ]
    },
    {
     "data": {
      "text/plain": [
       "<module 'matplotlib.pyplot' from 'C:\\\\Users\\\\KLAUS\\\\reptile\\\\Lib\\\\site-packages\\\\matplotlib\\\\pyplot.py'>"
      ]
     },
     "execution_count": 81,
     "metadata": {},
     "output_type": "execute_result"
    },
    {
     "data": {
      "image/png": "[encoded data removed]",
      "text/plain": [
       "<Figure size 1500x1200 with 4 Axes>"
      ]
     },
     "metadata": {},
     "output_type": "display_data"
    }
   ],
   "source": [
    "# Prediction Analysis for first 10 prediciton\n",
    "\n",
    "class PredictionAnalyzer:\n",
    "    def __init__(self, predictions, metrics):\n",
    "        self.predictions = np.array([42.77689915, 24.51908665, 21.73002415, 20.03275852, 33.41915397,\n",
    "                                   14.80033665, 34.98946647, 36.1245554, 20.8979929, 33.61446647])\n",
    "        self.metrics = {\n",
    "            'MSE': 3.3509831744323213,\n",
    "            'RMSE': 1.8305690848564884,\n",
    "            'MAE': 1.2449911266121725,\n",
    "            'R²': 0.9501043086205175\n",
    "        }\n",
    "        \n",
    "    def analyze_predictions(self):\n",
    "        \"\"\"Basic statistical analysis of predictions\"\"\"\n",
    "        stats = {\n",
    "            'Mean': np.mean(self.predictions),\n",
    "            'Median': np.median(self.predictions),\n",
    "            'Std Dev': np.std(self.predictions),\n",
    "            'Min': np.min(self.predictions),\n",
    "            'Max': np.max(self.predictions),\n",
    "            'Range': np.max(self.predictions) - np.min(self.predictions)\n",
    "        }\n",
    "        return stats\n",
    "    \n",
    "    def plot_analysis(self):\n",
    "        \"\"\"Create comprehensive visualization of predictions and errors\"\"\"\n",
    "        fig, axes = plt.subplots(2, 2, figsize=(15, 12))\n",
    "        \n",
    "        # Plot 1: Prediction Distribution\n",
    "        sns.histplot(self.predictions, kde=True, ax=axes[0,0])\n",
    "        axes[0,0].axvline(np.mean(self.predictions), color='r', linestyle='--', label='Mean')\n",
    "        axes[0,0].axvline(np.median(self.predictions), color='g', linestyle='--', label='Median')\n",
    "        axes[0,0].set_title('Distribution of Predictions')\n",
    "        axes[0,0].legend()\n",
    "        \n",
    "        # Plot 2: Prediction Values\n",
    "        axes[0,1].plot(range(len(self.predictions)), self.predictions, marker='o')\n",
    "        axes[0,1].axhline(np.mean(self.predictions), color='r', linestyle='--', label='Mean')\n",
    "        axes[0,1].set_title('Prediction Values')\n",
    "        axes[0,1].set_xlabel('Index')\n",
    "        axes[0,1].set_ylabel('Predicted Value')\n",
    "        axes[0,1].legend()\n",
    "        \n",
    "        # Plot 3: Error Metrics Comparison\n",
    "        metrics_to_plot = ['RMSE', 'MAE']\n",
    "        values_to_plot = [self.metrics['RMSE'], self.metrics['MAE']]\n",
    "        axes[1,0].bar(metrics_to_plot, values_to_plot)\n",
    "        axes[1,0].set_title('Error Metrics Comparison')\n",
    "        for i, v in enumerate(values_to_plot):\n",
    "            axes[1,0].text(i, v, f'{v:.2f}', ha='center', va='bottom')\n",
    "        \n",
    "        # Plot 4: Error Relative to Prediction Scale\n",
    "        mean_pred = np.mean(self.predictions)\n",
    "        error_percentages = {\n",
    "            'RMSE %': (self.metrics['RMSE'] / mean_pred) * 100,\n",
    "            'MAE %': (self.metrics['MAE'] / mean_pred) * 100\n",
    "        }\n",
    "        axes[1,1].bar(error_percentages.keys(), error_percentages.values())\n",
    "        axes[1,1].set_title('Error Percentages Relative to Mean Prediction')\n",
    "        axes[1,1].set_ylabel('Percentage')\n",
    "        for i, (k, v) in enumerate(error_percentages.items()):\n",
    "            axes[1,1].text(i, v, f'{v:.1f}%', ha='center', va='bottom')\n",
    "        \n",
    "        plt.tight_layout()\n",
    "        return plt\n",
    "\n",
    "    def calculate_percentage_errors(self):\n",
    "        \"\"\"Calculate error percentages relative to each prediction\"\"\"\n",
    "        mean_value = np.mean(self.predictions)\n",
    "        percentage_analysis = {\n",
    "            'RMSE %': (self.metrics['RMSE'] / mean_value) * 100,\n",
    "            'MAE %': (self.metrics['MAE'] / mean_value) * 100,\n",
    "            'Relative Error Range': {\n",
    "                'Min': (self.metrics['MAE'] / np.max(self.predictions)) * 100,\n",
    "                'Max': (self.metrics['MAE'] / np.min(self.predictions)) * 100\n",
    "            }\n",
    "        }\n",
    "        return percentage_analysis\n",
    "\n",
    "# Perform analysis\n",
    "analyzer = PredictionAnalyzer(predictions=None, metrics=None)  # Using hardcoded values from class\n",
    "\n",
    "# Get statistical analysis\n",
    "stats = analyzer.analyze_predictions()\n",
    "print(\"\\nPrediction Statistics:\")\n",
    "for key, value in stats.items():\n",
    "    print(f\"{key}: {value:.2f}\")\n",
    "\n",
    "# Calculate percentage errors\n",
    "percentage_errors = analyzer.calculate_percentage_errors()\n",
    "print(\"\\nPercentage Error Analysis:\")\n",
    "print(f\"RMSE as % of mean prediction: {percentage_errors['RMSE %']:.2f}%\")\n",
    "print(f\"MAE as % of mean prediction: {percentage_errors['MAE %']:.2f}%\")\n",
    "print(\"\\nRelative Error Ranges:\")\n",
    "print(f\"Minimum: {percentage_errors['Relative Error Range']['Min']:.2f}%\")\n",
    "print(f\"Maximum: {percentage_errors['Relative Error Range']['Max']:.2f}%\")\n",
    "\n",
    "# Create visualizations\n",
    "analyzer.plot_analysis()"
   ]
  }
 ],
 "metadata": {
  "kernelspec": {
   "display_name": "Python 3 (ipykernel)",
   "language": "python",
   "name": "python3"
  },
  "language_info": {
   "codemirror_mode": {
    "name": "ipython",
    "version": 3
   },
   "file_extension": ".py",
   "mimetype": "text/x-python",
   "name": "python",
   "nbconvert_exporter": "python",
   "pygments_lexer": "ipython3",
   "version": "3.11.4"
  }
 },
 "nbformat": 4,
 "nbformat_minor": 5
}
