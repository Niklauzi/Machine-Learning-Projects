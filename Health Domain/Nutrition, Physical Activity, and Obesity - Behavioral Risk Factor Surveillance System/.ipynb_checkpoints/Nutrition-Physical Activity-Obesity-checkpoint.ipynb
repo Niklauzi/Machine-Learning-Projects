{
 "cells": [
  {
   "cell_type": "markdown",
   "id": "08a804c2",
   "metadata": {},
   "source": [
    "https://data.cdc.gov/Nutrition-Physical-Activity-and-Obesity/Nutrition-Physical-Activity-and-Obesity-Behavioral/hn4x-zwk7/about_data"
   ]
  },
  {
   "cell_type": "code",
   "execution_count": 1,
   "id": "b64f8f86",
   "metadata": {},
   "outputs": [],
   "source": [
    "# Importing all relevant packages to the project\n",
    "import pandas as pd\n",
    "import numpy as np\n",
    "import seaborn as sns\n",
    "import matplotlib.pyplot as plt\n",
    "import warnings  # Import warnings to handle warning messages\n",
    "warnings.filterwarnings('ignore')  # Ignore warning messages to avoid cluttering the output\n",
    "\n",
    "%matplotlib inline"
   ]
  },
  {
   "cell_type": "code",
   "execution_count": 2,
   "id": "4febf620",
   "metadata": {},
   "outputs": [],
   "source": [
    "df = pd.read_csv('Datasets/Nutrition__Physical_Activity__and_Obesity_-_Behavioral_Risk_Factor_Surveillance_System.csv')\n",
    "pd.set_option('display.max_columns', None)"
   ]
  },
  {
   "cell_type": "code",
   "execution_count": 3,
   "id": "555733d9",
   "metadata": {},
   "outputs": [
    {
     "data": {
      "text/html": [
       "<div>\n",
       "<style scoped>\n",
       "    .dataframe tbody tr th:only-of-type {\n",
       "        vertical-align: middle;\n",
       "    }\n",
       "\n",
       "    .dataframe tbody tr th {\n",
       "        vertical-align: top;\n",
       "    }\n",
       "\n",
       "    .dataframe thead th {\n",
       "        text-align: right;\n",
       "    }\n",
       "</style>\n",
       "<table border=\"1\" class=\"dataframe\">\n",
       "  <thead>\n",
       "    <tr style=\"text-align: right;\">\n",
       "      <th></th>\n",
       "      <th>YearStart</th>\n",
       "      <th>YearEnd</th>\n",
       "      <th>LocationAbbr</th>\n",
       "      <th>LocationDesc</th>\n",
       "      <th>Datasource</th>\n",
       "      <th>Class</th>\n",
       "      <th>Topic</th>\n",
       "      <th>Question</th>\n",
       "      <th>Data_Value_Unit</th>\n",
       "      <th>Data_Value_Type</th>\n",
       "      <th>Data_Value</th>\n",
       "      <th>Data_Value_Alt</th>\n",
       "      <th>Data_Value_Footnote_Symbol</th>\n",
       "      <th>Data_Value_Footnote</th>\n",
       "      <th>Low_Confidence_Limit</th>\n",
       "      <th>High_Confidence_Limit</th>\n",
       "      <th>Sample_Size</th>\n",
       "      <th>Total</th>\n",
       "      <th>Age(years)</th>\n",
       "      <th>Education</th>\n",
       "      <th>Gender</th>\n",
       "      <th>Income</th>\n",
       "      <th>Race/Ethnicity</th>\n",
       "      <th>GeoLocation</th>\n",
       "      <th>ClassID</th>\n",
       "      <th>TopicID</th>\n",
       "      <th>QuestionID</th>\n",
       "      <th>DataValueTypeID</th>\n",
       "      <th>LocationID</th>\n",
       "      <th>StratificationCategory1</th>\n",
       "      <th>Stratification1</th>\n",
       "      <th>StratificationCategoryId1</th>\n",
       "      <th>StratificationID1</th>\n",
       "    </tr>\n",
       "  </thead>\n",
       "  <tbody>\n",
       "    <tr>\n",
       "      <th>0</th>\n",
       "      <td>2011</td>\n",
       "      <td>2011</td>\n",
       "      <td>AK</td>\n",
       "      <td>Alaska</td>\n",
       "      <td>BRFSS</td>\n",
       "      <td>Obesity / Weight Status</td>\n",
       "      <td>Obesity / Weight Status</td>\n",
       "      <td>Percent of adults aged 18 years and older who ...</td>\n",
       "      <td>2011.0</td>\n",
       "      <td>Value</td>\n",
       "      <td>23.3</td>\n",
       "      <td>23.3</td>\n",
       "      <td>NaN</td>\n",
       "      <td>NaN</td>\n",
       "      <td>16.1</td>\n",
       "      <td>32.4</td>\n",
       "      <td>128.0</td>\n",
       "      <td>NaN</td>\n",
       "      <td>NaN</td>\n",
       "      <td>NaN</td>\n",
       "      <td>NaN</td>\n",
       "      <td>NaN</td>\n",
       "      <td>2 or more races</td>\n",
       "      <td>(64.845079957001, -147.722059036)</td>\n",
       "      <td>OWS</td>\n",
       "      <td>OWS1</td>\n",
       "      <td>Q036</td>\n",
       "      <td>VALUE</td>\n",
       "      <td>2</td>\n",
       "      <td>Race/Ethnicity</td>\n",
       "      <td>2 or more races</td>\n",
       "      <td>RACE</td>\n",
       "      <td>RACE2PLUS</td>\n",
       "    </tr>\n",
       "    <tr>\n",
       "      <th>1</th>\n",
       "      <td>2011</td>\n",
       "      <td>2011</td>\n",
       "      <td>AK</td>\n",
       "      <td>Alaska</td>\n",
       "      <td>BRFSS</td>\n",
       "      <td>Obesity / Weight Status</td>\n",
       "      <td>Obesity / Weight Status</td>\n",
       "      <td>Percent of adults aged 18 years and older who ...</td>\n",
       "      <td>2011.0</td>\n",
       "      <td>Value</td>\n",
       "      <td>35.5</td>\n",
       "      <td>35.5</td>\n",
       "      <td>NaN</td>\n",
       "      <td>NaN</td>\n",
       "      <td>22.7</td>\n",
       "      <td>50.9</td>\n",
       "      <td>63.0</td>\n",
       "      <td>NaN</td>\n",
       "      <td>NaN</td>\n",
       "      <td>NaN</td>\n",
       "      <td>NaN</td>\n",
       "      <td>NaN</td>\n",
       "      <td>Other</td>\n",
       "      <td>(64.845079957001, -147.722059036)</td>\n",
       "      <td>OWS</td>\n",
       "      <td>OWS1</td>\n",
       "      <td>Q036</td>\n",
       "      <td>VALUE</td>\n",
       "      <td>2</td>\n",
       "      <td>Race/Ethnicity</td>\n",
       "      <td>Other</td>\n",
       "      <td>RACE</td>\n",
       "      <td>RACEOTH</td>\n",
       "    </tr>\n",
       "    <tr>\n",
       "      <th>2</th>\n",
       "      <td>2011</td>\n",
       "      <td>2011</td>\n",
       "      <td>AK</td>\n",
       "      <td>Alaska</td>\n",
       "      <td>BRFSS</td>\n",
       "      <td>Physical Activity</td>\n",
       "      <td>Physical Activity - Behavior</td>\n",
       "      <td>Percent of adults who achieve at least 150 min...</td>\n",
       "      <td>2011.0</td>\n",
       "      <td>Value</td>\n",
       "      <td>21.7</td>\n",
       "      <td>21.7</td>\n",
       "      <td>NaN</td>\n",
       "      <td>NaN</td>\n",
       "      <td>19.1</td>\n",
       "      <td>24.6</td>\n",
       "      <td>1702.0</td>\n",
       "      <td>NaN</td>\n",
       "      <td>NaN</td>\n",
       "      <td>NaN</td>\n",
       "      <td>Female</td>\n",
       "      <td>NaN</td>\n",
       "      <td>NaN</td>\n",
       "      <td>(64.845079957001, -147.722059036)</td>\n",
       "      <td>PA</td>\n",
       "      <td>PA1</td>\n",
       "      <td>Q044</td>\n",
       "      <td>VALUE</td>\n",
       "      <td>2</td>\n",
       "      <td>Gender</td>\n",
       "      <td>Female</td>\n",
       "      <td>GEN</td>\n",
       "      <td>FEMALE</td>\n",
       "    </tr>\n",
       "    <tr>\n",
       "      <th>3</th>\n",
       "      <td>2011</td>\n",
       "      <td>2011</td>\n",
       "      <td>AK</td>\n",
       "      <td>Alaska</td>\n",
       "      <td>BRFSS</td>\n",
       "      <td>Obesity / Weight Status</td>\n",
       "      <td>Obesity / Weight Status</td>\n",
       "      <td>Percent of adults aged 18 years and older who ...</td>\n",
       "      <td>2011.0</td>\n",
       "      <td>Value</td>\n",
       "      <td>29.5</td>\n",
       "      <td>29.5</td>\n",
       "      <td>NaN</td>\n",
       "      <td>NaN</td>\n",
       "      <td>24.5</td>\n",
       "      <td>35.0</td>\n",
       "      <td>562.0</td>\n",
       "      <td>NaN</td>\n",
       "      <td>35 - 44</td>\n",
       "      <td>NaN</td>\n",
       "      <td>NaN</td>\n",
       "      <td>NaN</td>\n",
       "      <td>NaN</td>\n",
       "      <td>(64.845079957001, -147.722059036)</td>\n",
       "      <td>OWS</td>\n",
       "      <td>OWS1</td>\n",
       "      <td>Q036</td>\n",
       "      <td>VALUE</td>\n",
       "      <td>2</td>\n",
       "      <td>Age (years)</td>\n",
       "      <td>35 - 44</td>\n",
       "      <td>AGEYR</td>\n",
       "      <td>AGEYR3544</td>\n",
       "    </tr>\n",
       "    <tr>\n",
       "      <th>4</th>\n",
       "      <td>2011</td>\n",
       "      <td>2011</td>\n",
       "      <td>AK</td>\n",
       "      <td>Alaska</td>\n",
       "      <td>BRFSS</td>\n",
       "      <td>Obesity / Weight Status</td>\n",
       "      <td>Obesity / Weight Status</td>\n",
       "      <td>Percent of adults aged 18 years and older who ...</td>\n",
       "      <td>2011.0</td>\n",
       "      <td>Value</td>\n",
       "      <td>33.5</td>\n",
       "      <td>33.5</td>\n",
       "      <td>NaN</td>\n",
       "      <td>NaN</td>\n",
       "      <td>26.2</td>\n",
       "      <td>41.7</td>\n",
       "      <td>377.0</td>\n",
       "      <td>NaN</td>\n",
       "      <td>NaN</td>\n",
       "      <td>NaN</td>\n",
       "      <td>NaN</td>\n",
       "      <td>$15,000 - $24,999</td>\n",
       "      <td>NaN</td>\n",
       "      <td>(64.845079957001, -147.722059036)</td>\n",
       "      <td>OWS</td>\n",
       "      <td>OWS1</td>\n",
       "      <td>Q037</td>\n",
       "      <td>VALUE</td>\n",
       "      <td>2</td>\n",
       "      <td>Income</td>\n",
       "      <td>$15,000 - $24,999</td>\n",
       "      <td>INC</td>\n",
       "      <td>INC1525</td>\n",
       "    </tr>\n",
       "  </tbody>\n",
       "</table>\n",
       "</div>"
      ],
      "text/plain": [
       "   YearStart  YearEnd LocationAbbr LocationDesc Datasource  \\\n",
       "0       2011     2011           AK       Alaska      BRFSS   \n",
       "1       2011     2011           AK       Alaska      BRFSS   \n",
       "2       2011     2011           AK       Alaska      BRFSS   \n",
       "3       2011     2011           AK       Alaska      BRFSS   \n",
       "4       2011     2011           AK       Alaska      BRFSS   \n",
       "\n",
       "                     Class                         Topic  \\\n",
       "0  Obesity / Weight Status       Obesity / Weight Status   \n",
       "1  Obesity / Weight Status       Obesity / Weight Status   \n",
       "2        Physical Activity  Physical Activity - Behavior   \n",
       "3  Obesity / Weight Status       Obesity / Weight Status   \n",
       "4  Obesity / Weight Status       Obesity / Weight Status   \n",
       "\n",
       "                                            Question  Data_Value_Unit  \\\n",
       "0  Percent of adults aged 18 years and older who ...           2011.0   \n",
       "1  Percent of adults aged 18 years and older who ...           2011.0   \n",
       "2  Percent of adults who achieve at least 150 min...           2011.0   \n",
       "3  Percent of adults aged 18 years and older who ...           2011.0   \n",
       "4  Percent of adults aged 18 years and older who ...           2011.0   \n",
       "\n",
       "  Data_Value_Type  Data_Value  Data_Value_Alt Data_Value_Footnote_Symbol  \\\n",
       "0           Value        23.3            23.3                        NaN   \n",
       "1           Value        35.5            35.5                        NaN   \n",
       "2           Value        21.7            21.7                        NaN   \n",
       "3           Value        29.5            29.5                        NaN   \n",
       "4           Value        33.5            33.5                        NaN   \n",
       "\n",
       "  Data_Value_Footnote  Low_Confidence_Limit  High_Confidence_Limit   \\\n",
       "0                 NaN                  16.1                    32.4   \n",
       "1                 NaN                  22.7                    50.9   \n",
       "2                 NaN                  19.1                    24.6   \n",
       "3                 NaN                  24.5                    35.0   \n",
       "4                 NaN                  26.2                    41.7   \n",
       "\n",
       "   Sample_Size Total Age(years) Education  Gender             Income  \\\n",
       "0        128.0   NaN        NaN       NaN     NaN                NaN   \n",
       "1         63.0   NaN        NaN       NaN     NaN                NaN   \n",
       "2       1702.0   NaN        NaN       NaN  Female                NaN   \n",
       "3        562.0   NaN    35 - 44       NaN     NaN                NaN   \n",
       "4        377.0   NaN        NaN       NaN     NaN  $15,000 - $24,999   \n",
       "\n",
       "    Race/Ethnicity                        GeoLocation ClassID TopicID  \\\n",
       "0  2 or more races  (64.845079957001, -147.722059036)     OWS    OWS1   \n",
       "1            Other  (64.845079957001, -147.722059036)     OWS    OWS1   \n",
       "2              NaN  (64.845079957001, -147.722059036)      PA     PA1   \n",
       "3              NaN  (64.845079957001, -147.722059036)     OWS    OWS1   \n",
       "4              NaN  (64.845079957001, -147.722059036)     OWS    OWS1   \n",
       "\n",
       "  QuestionID DataValueTypeID  LocationID StratificationCategory1  \\\n",
       "0       Q036           VALUE           2          Race/Ethnicity   \n",
       "1       Q036           VALUE           2          Race/Ethnicity   \n",
       "2       Q044           VALUE           2                  Gender   \n",
       "3       Q036           VALUE           2             Age (years)   \n",
       "4       Q037           VALUE           2                  Income   \n",
       "\n",
       "     Stratification1 StratificationCategoryId1 StratificationID1  \n",
       "0    2 or more races                      RACE         RACE2PLUS  \n",
       "1              Other                      RACE           RACEOTH  \n",
       "2             Female                       GEN            FEMALE  \n",
       "3            35 - 44                     AGEYR         AGEYR3544  \n",
       "4  $15,000 - $24,999                       INC           INC1525  "
      ]
     },
     "execution_count": 3,
     "metadata": {},
     "output_type": "execute_result"
    }
   ],
   "source": [
    "df.head()"
   ]
  },
  {
   "cell_type": "code",
   "execution_count": 4,
   "id": "980ea4d4",
   "metadata": {},
   "outputs": [
    {
     "data": {
      "text/plain": [
       "(104272, 33)"
      ]
     },
     "execution_count": 4,
     "metadata": {},
     "output_type": "execute_result"
    }
   ],
   "source": [
    "df.shape"
   ]
  },
  {
   "cell_type": "code",
   "execution_count": 5,
   "id": "1e12f569",
   "metadata": {},
   "outputs": [
    {
     "name": "stdout",
     "output_type": "stream",
     "text": [
      "<class 'pandas.core.frame.DataFrame'>\n",
      "RangeIndex: 104272 entries, 0 to 104271\n",
      "Data columns (total 33 columns):\n",
      " #   Column                      Non-Null Count   Dtype  \n",
      "---  ------                      --------------   -----  \n",
      " 0   YearStart                   104272 non-null  int64  \n",
      " 1   YearEnd                     104272 non-null  int64  \n",
      " 2   LocationAbbr                104272 non-null  object \n",
      " 3   LocationDesc                104272 non-null  object \n",
      " 4   Datasource                  104272 non-null  object \n",
      " 5   Class                       104272 non-null  object \n",
      " 6   Topic                       104272 non-null  object \n",
      " 7   Question                    104272 non-null  object \n",
      " 8   Data_Value_Unit             88872 non-null   float64\n",
      " 9   Data_Value_Type             104272 non-null  object \n",
      " 10  Data_Value                  93505 non-null   float64\n",
      " 11  Data_Value_Alt              93505 non-null   float64\n",
      " 12  Data_Value_Footnote_Symbol  10767 non-null   object \n",
      " 13  Data_Value_Footnote         10767 non-null   object \n",
      " 14  Low_Confidence_Limit        93505 non-null   float64\n",
      " 15  High_Confidence_Limit       93505 non-null   float64\n",
      " 16  Sample_Size                 93505 non-null   float64\n",
      " 17  Total                       3724 non-null    object \n",
      " 18  Age(years)                  22344 non-null   object \n",
      " 19  Education                   14896 non-null   object \n",
      " 20  Gender                      7448 non-null    object \n",
      " 21  Income                      26068 non-null   object \n",
      " 22  Race/Ethnicity              29792 non-null   object \n",
      " 23  GeoLocation                 102340 non-null  object \n",
      " 24  ClassID                     104272 non-null  object \n",
      " 25  TopicID                     104272 non-null  object \n",
      " 26  QuestionID                  104272 non-null  object \n",
      " 27  DataValueTypeID             104272 non-null  object \n",
      " 28  LocationID                  104272 non-null  int64  \n",
      " 29  StratificationCategory1     104272 non-null  object \n",
      " 30  Stratification1             104272 non-null  object \n",
      " 31  StratificationCategoryId1   104272 non-null  object \n",
      " 32  StratificationID1           104272 non-null  object \n",
      "dtypes: float64(6), int64(3), object(24)\n",
      "memory usage: 26.3+ MB\n"
     ]
    }
   ],
   "source": [
    "df.info()"
   ]
  },
  {
   "cell_type": "code",
   "execution_count": 6,
   "id": "c6fb8d1f",
   "metadata": {},
   "outputs": [
    {
     "data": {
      "text/plain": [
       "Index(['YearStart', 'YearEnd', 'LocationAbbr', 'LocationDesc', 'Datasource',\n",
       "       'Class', 'Topic', 'Question', 'Data_Value_Unit', 'Data_Value_Type',\n",
       "       'Data_Value', 'Data_Value_Alt', 'Data_Value_Footnote_Symbol',\n",
       "       'Data_Value_Footnote', 'Low_Confidence_Limit', 'High_Confidence_Limit ',\n",
       "       'Sample_Size', 'Total', 'Age(years)', 'Education', 'Gender', 'Income',\n",
       "       'Race/Ethnicity', 'GeoLocation', 'ClassID', 'TopicID', 'QuestionID',\n",
       "       'DataValueTypeID', 'LocationID', 'StratificationCategory1',\n",
       "       'Stratification1', 'StratificationCategoryId1', 'StratificationID1'],\n",
       "      dtype='object')"
      ]
     },
     "execution_count": 6,
     "metadata": {},
     "output_type": "execute_result"
    }
   ],
   "source": [
    "df.columns"
   ]
  },
  {
   "cell_type": "code",
   "execution_count": 7,
   "id": "9f08c288",
   "metadata": {},
   "outputs": [
    {
     "data": {
      "text/plain": [
       "array([2011, 2012, 2013, 2014, 2015, 2016, 2017, 2018, 2019, 2020, 2021,\n",
       "       2022, 2023], dtype=int64)"
      ]
     },
     "execution_count": 7,
     "metadata": {},
     "output_type": "execute_result"
    }
   ],
   "source": [
    "df.YearStart.unique()"
   ]
  },
  {
   "cell_type": "code",
   "execution_count": 8,
   "id": "2d1444dc",
   "metadata": {},
   "outputs": [
    {
     "data": {
      "text/plain": [
       "array([2011, 2012, 2013, 2014, 2015, 2016, 2017, 2018, 2019, 2020, 2021,\n",
       "       2022, 2023], dtype=int64)"
      ]
     },
     "execution_count": 8,
     "metadata": {},
     "output_type": "execute_result"
    }
   ],
   "source": [
    "df.YearEnd.unique()"
   ]
  },
  {
   "cell_type": "code",
   "execution_count": 9,
   "id": "952d785e",
   "metadata": {},
   "outputs": [],
   "source": [
    "# df.LocationAbbr.unique()"
   ]
  },
  {
   "cell_type": "code",
   "execution_count": 10,
   "id": "75cd6b43",
   "metadata": {},
   "outputs": [
    {
     "data": {
      "text/plain": [
       "array(['Alaska', 'Alabama', 'Arkansas', 'Arizona', 'California',\n",
       "       'Colorado', 'Connecticut', 'District of Columbia', 'Delaware',\n",
       "       'Florida', 'Georgia', 'Hawaii', 'Iowa', 'Idaho', 'Illinois',\n",
       "       'Indiana', 'Kansas', 'Kentucky', 'Louisiana', 'Massachusetts',\n",
       "       'Maryland', 'Maine', 'Michigan', 'Minnesota', 'Missouri',\n",
       "       'Mississippi', 'Montana', 'North Carolina', 'North Dakota',\n",
       "       'Nebraska', 'New Hampshire', 'New Jersey', 'New Mexico', 'Nevada',\n",
       "       'New York', 'Ohio', 'Oklahoma', 'Oregon', 'Pennsylvania',\n",
       "       'Rhode Island', 'South Carolina', 'South Dakota', 'Tennessee',\n",
       "       'Texas', 'National', 'Utah', 'Virginia', 'Vermont', 'Washington',\n",
       "       'Wisconsin', 'West Virginia', 'Wyoming', 'Puerto Rico', 'Guam',\n",
       "       'Virgin Islands'], dtype=object)"
      ]
     },
     "execution_count": 10,
     "metadata": {},
     "output_type": "execute_result"
    }
   ],
   "source": [
    "df.LocationDesc.unique()"
   ]
  },
  {
   "cell_type": "code",
   "execution_count": 11,
   "id": "e66ecbca",
   "metadata": {},
   "outputs": [],
   "source": [
    "# df.Datasource.unique()\n",
    "\n",
    "# Since the Datasource is uniform \"BRFSS\", the column will be dropped"
   ]
  },
  {
   "cell_type": "code",
   "execution_count": 12,
   "id": "4ead68f9",
   "metadata": {},
   "outputs": [
    {
     "data": {
      "text/plain": [
       "array(['Obesity / Weight Status', 'Physical Activity',\n",
       "       'Fruits and Vegetables'], dtype=object)"
      ]
     },
     "execution_count": 12,
     "metadata": {},
     "output_type": "execute_result"
    }
   ],
   "source": [
    "df.Class.unique()"
   ]
  },
  {
   "cell_type": "code",
   "execution_count": 13,
   "id": "28995d79",
   "metadata": {},
   "outputs": [
    {
     "data": {
      "text/plain": [
       "array(['Obesity / Weight Status', 'Physical Activity - Behavior',\n",
       "       'Fruits and Vegetables - Behavior'], dtype=object)"
      ]
     },
     "execution_count": 13,
     "metadata": {},
     "output_type": "execute_result"
    }
   ],
   "source": [
    "df.Topic.unique()"
   ]
  },
  {
   "cell_type": "code",
   "execution_count": null,
   "id": "c4dc36e9",
   "metadata": {},
   "outputs": [],
   "source": []
  },
  {
   "cell_type": "code",
   "execution_count": 14,
   "id": "bf68d83a",
   "metadata": {},
   "outputs": [
    {
     "data": {
      "text/plain": [
       "array(['Percent of adults aged 18 years and older who have obesity',\n",
       "       'Percent of adults who achieve at least 150 minutes a week of moderate-intensity aerobic physical activity or 75 minutes a week of vigorous-intensity aerobic physical activity and engage in muscle-strengthening activities on 2 or more days a week',\n",
       "       'Percent of adults aged 18 years and older who have an overweight classification',\n",
       "       'Percent of adults who engage in muscle-strengthening activities on 2 or more days a week',\n",
       "       'Percent of adults who achieve at least 300 minutes a week of moderate-intensity aerobic physical activity or 150 minutes a week of vigorous-intensity aerobic activity (or an equivalent combination)',\n",
       "       'Percent of adults who engage in no leisure-time physical activity',\n",
       "       'Percent of adults who achieve at least 150 minutes a week of moderate-intensity aerobic physical activity or 75 minutes a week of vigorous-intensity aerobic activity (or an equivalent combination)',\n",
       "       'Percent of adults who report consuming fruit less than one time daily',\n",
       "       'Percent of adults who report consuming vegetables less than one time daily'],\n",
       "      dtype=object)"
      ]
     },
     "execution_count": 14,
     "metadata": {},
     "output_type": "execute_result"
    }
   ],
   "source": [
    "df.Question.unique()\n",
    "\n",
    "# I will shorten the question strings and check to see if there is a relationship between other columns"
   ]
  },
  {
   "cell_type": "code",
   "execution_count": 15,
   "id": "c258f680",
   "metadata": {},
   "outputs": [
    {
     "data": {
      "text/plain": [
       "array([2011., 2012., 2013., 2014., 2015., 2016., 2017., 2018., 2019.,\n",
       "       2020., 2021.,   nan])"
      ]
     },
     "execution_count": 15,
     "metadata": {},
     "output_type": "execute_result"
    }
   ],
   "source": [
    "df.Data_Value_Unit.unique()"
   ]
  },
  {
   "cell_type": "code",
   "execution_count": 16,
   "id": "1657010c",
   "metadata": {},
   "outputs": [
    {
     "data": {
      "text/plain": [
       "array(['Value'], dtype=object)"
      ]
     },
     "execution_count": 16,
     "metadata": {},
     "output_type": "execute_result"
    }
   ],
   "source": [
    "df.Data_Value_Type.unique()"
   ]
  },
  {
   "cell_type": "code",
   "execution_count": 17,
   "id": "720a2d99",
   "metadata": {},
   "outputs": [
    {
     "data": {
      "text/plain": [
       "array([2011., 2012., 2013., 2014., 2015., 2016., 2017., 2018., 2019.,\n",
       "       2020., 2021.,   nan])"
      ]
     },
     "execution_count": 17,
     "metadata": {},
     "output_type": "execute_result"
    }
   ],
   "source": [
    "df.Data_Value_Unit.unique()"
   ]
  },
  {
   "cell_type": "code",
   "execution_count": 18,
   "id": "59a53c76",
   "metadata": {},
   "outputs": [],
   "source": [
    "# df.Data_Value.unique()"
   ]
  },
  {
   "cell_type": "code",
   "execution_count": 19,
   "id": "cac7ae10",
   "metadata": {},
   "outputs": [],
   "source": [
    "# df.Data_Value_Alt.unique()"
   ]
  },
  {
   "cell_type": "code",
   "execution_count": 20,
   "id": "23bab34a",
   "metadata": {},
   "outputs": [
    {
     "data": {
      "text/plain": [
       "array([nan, '~'], dtype=object)"
      ]
     },
     "execution_count": 20,
     "metadata": {},
     "output_type": "execute_result"
    }
   ],
   "source": [
    "df.Data_Value_Footnote_Symbol.unique()"
   ]
  },
  {
   "cell_type": "code",
   "execution_count": 21,
   "id": "1941c064",
   "metadata": {},
   "outputs": [
    {
     "data": {
      "text/plain": [
       "array([nan, 'Data not available because sample size is insufficient.'],\n",
       "      dtype=object)"
      ]
     },
     "execution_count": 21,
     "metadata": {},
     "output_type": "execute_result"
    }
   ],
   "source": [
    "df.Data_Value_Footnote.unique()"
   ]
  },
  {
   "cell_type": "code",
   "execution_count": 22,
   "id": "14198fe9",
   "metadata": {},
   "outputs": [
    {
     "data": {
      "text/plain": [
       "array([ 128.,   63., 1702., ..., 4124., 4472., 3763.])"
      ]
     },
     "execution_count": 22,
     "metadata": {},
     "output_type": "execute_result"
    }
   ],
   "source": [
    "df.Sample_Size.unique()"
   ]
  },
  {
   "cell_type": "code",
   "execution_count": 23,
   "id": "3553cf86",
   "metadata": {},
   "outputs": [],
   "source": [
    "#'Total', 'Age(years)', 'Education', 'Gender', 'Income', 'Race/Ethnicity' Data_Value_Footnote_Symbol and Data_Value_Footnote have shown to have very high missing value and will also be handled"
   ]
  },
  {
   "cell_type": "code",
   "execution_count": null,
   "id": "57a5afc3",
   "metadata": {},
   "outputs": [],
   "source": []
  },
  {
   "cell_type": "code",
   "execution_count": 24,
   "id": "fdcf4ff0",
   "metadata": {},
   "outputs": [
    {
     "data": {
      "text/plain": [
       "array(['Q036', 'Q044', 'Q037', 'Q046', 'Q045', 'Q047', 'Q043', 'Q018',\n",
       "       'Q019'], dtype=object)"
      ]
     },
     "execution_count": 24,
     "metadata": {},
     "output_type": "execute_result"
    }
   ],
   "source": [
    "df.QuestionID.unique()"
   ]
  },
  {
   "cell_type": "code",
   "execution_count": null,
   "id": "6c14a117",
   "metadata": {},
   "outputs": [],
   "source": []
  },
  {
   "cell_type": "code",
   "execution_count": 25,
   "id": "1bc561f0",
   "metadata": {},
   "outputs": [
    {
     "data": {
      "text/plain": [
       "array([ 2,  1,  5,  4,  6,  8,  9, 11, 10, 12, 13, 15, 19, 16, 17, 18, 20,\n",
       "       21, 22, 25, 24, 23, 26, 27, 29, 28, 30, 37, 38, 31, 33, 34, 35, 32,\n",
       "       36, 39, 40, 41, 42, 44, 45, 46, 47, 48, 59, 49, 51, 50, 53, 55, 54,\n",
       "       56, 72, 66, 78], dtype=int64)"
      ]
     },
     "execution_count": 25,
     "metadata": {},
     "output_type": "execute_result"
    }
   ],
   "source": [
    "df.LocationID.unique()"
   ]
  },
  {
   "cell_type": "code",
   "execution_count": 26,
   "id": "25f31f9b",
   "metadata": {},
   "outputs": [
    {
     "data": {
      "text/plain": [
       "array(['Race/Ethnicity', 'Gender', 'Age (years)', 'Income', 'Education',\n",
       "       'Total'], dtype=object)"
      ]
     },
     "execution_count": 26,
     "metadata": {},
     "output_type": "execute_result"
    }
   ],
   "source": [
    "df.StratificationCategory1.unique()"
   ]
  },
  {
   "cell_type": "code",
   "execution_count": 27,
   "id": "1c419277",
   "metadata": {},
   "outputs": [
    {
     "data": {
      "text/plain": [
       "array(['RACE', 'GEN', 'AGEYR', 'INC', 'EDU', 'OVR'], dtype=object)"
      ]
     },
     "execution_count": 27,
     "metadata": {},
     "output_type": "execute_result"
    }
   ],
   "source": [
    "df.StratificationCategoryId1.unique()"
   ]
  },
  {
   "cell_type": "code",
   "execution_count": 28,
   "id": "8e94a00a",
   "metadata": {},
   "outputs": [
    {
     "data": {
      "text/plain": [
       "array(['2 or more races', 'Other', 'Female', '35 - 44',\n",
       "       '$15,000 - $24,999', 'Male', 'Less than high school', '25 - 34',\n",
       "       'Non-Hispanic White', 'Asian', 'Some college or technical school',\n",
       "       '18 - 24', '$50,000 - $74,999', 'Hawaiian/Pacific Islander',\n",
       "       'High school graduate', '$75,000 or greater',\n",
       "       'American Indian/Alaska Native', 'College graduate', 'Hispanic',\n",
       "       'Non-Hispanic Black', 'Less than $15,000', '55 - 64',\n",
       "       '65 or older', 'Total', '$25,000 - $34,999', '45 - 54',\n",
       "       'Data not reported', '$35,000 - $49,999'], dtype=object)"
      ]
     },
     "execution_count": 28,
     "metadata": {},
     "output_type": "execute_result"
    }
   ],
   "source": [
    "df.Stratification1.unique()"
   ]
  },
  {
   "cell_type": "code",
   "execution_count": 29,
   "id": "bd3480b3",
   "metadata": {},
   "outputs": [
    {
     "data": {
      "text/plain": [
       "array(['RACE2PLUS', 'RACEOTH', 'FEMALE', 'AGEYR3544', 'INC1525', 'MALE',\n",
       "       'EDUHS', 'AGEYR2534', 'RACEWHT', 'RACEASN', 'EDUCOTEC',\n",
       "       'AGEYR1824', 'INC5075', 'RACEHPI', 'EDUHSGRAD', 'INC75PLUS',\n",
       "       'RACENAA', 'EDUCOGRAD', 'RACEHIS', 'RACEBLK', 'INCLESS15',\n",
       "       'AGEYR5564', 'AGEYR65PLUS', 'OVERALL', 'INC2535', 'AGEYR4554',\n",
       "       'INCNR', 'INC3550'], dtype=object)"
      ]
     },
     "execution_count": 29,
     "metadata": {},
     "output_type": "execute_result"
    }
   ],
   "source": [
    "df.StratificationID1.unique()"
   ]
  },
  {
   "cell_type": "code",
   "execution_count": null,
   "id": "d77064b5",
   "metadata": {},
   "outputs": [],
   "source": []
  },
  {
   "cell_type": "markdown",
   "id": "224f1615",
   "metadata": {},
   "source": [
    "### Dropping unnecessary columns"
   ]
  },
  {
   "cell_type": "markdown",
   "id": "283b1e43",
   "metadata": {},
   "source": [
    "#### Columns to drop\n",
    "\n",
    "\n",
    "YearEnd countains the same values as YearStart, it will be dropped and YearStart renamed to Year\n",
    "\n",
    "GeoLocation will be dropped as we already h LocationDesc\n",
    "\n",
    "LocationAbbr column will be dropped for now.\n",
    "\n",
    "Topic columns will be dropped as it is same with the Class column\n",
    "\n",
    "'Data_Value_Unit' will be dropped as it is same as Year column, also i will drop the 'Data_Value_Type' and DataValueTypeID column as it contains a single vlaue\n",
    "\n",
    "Data_Value_Alt will be dropped as it is the same with Data_Value\n",
    "\n",
    "TopcID will be dropped as it is similar with ClassID"
   ]
  },
  {
   "cell_type": "code",
   "execution_count": 30,
   "id": "a02b689e",
   "metadata": {},
   "outputs": [],
   "source": [
    "# Dropping unnecessary columns\n",
    "\n",
    "unnecessary_columns = ['YearEnd', 'GeoLocation', 'LocationAbbr', 'Datasource', 'Topic', 'Data_Value_Type', 'Data_Value_Unit', 'Data_Value_Alt', 'TopicID', 'DataValueTypeID']\n",
    "\n",
    "df = df.drop(columns= unnecessary_columns)"
   ]
  },
  {
   "cell_type": "code",
   "execution_count": 31,
   "id": "eedd70af",
   "metadata": {},
   "outputs": [
    {
     "data": {
      "text/plain": [
       "(104272, 24)"
      ]
     },
     "execution_count": 31,
     "metadata": {},
     "output_type": "execute_result"
    }
   ],
   "source": [
    "df.shape"
   ]
  },
  {
   "cell_type": "code",
   "execution_count": 38,
   "id": "e56fced6",
   "metadata": {},
   "outputs": [],
   "source": [
    "# Renaming YearStart to Year\n",
    "df = df.rename(columns = {'YearStart' : 'Year'})"
   ]
  },
  {
   "cell_type": "code",
   "execution_count": null,
   "id": "b59b27ab",
   "metadata": {},
   "outputs": [],
   "source": []
  },
  {
   "cell_type": "markdown",
   "id": "5194a48e",
   "metadata": {},
   "source": [
    "### Handling Missing Values"
   ]
  },
  {
   "cell_type": "code",
   "execution_count": 32,
   "id": "bbc82970",
   "metadata": {},
   "outputs": [
    {
     "data": {
      "text/plain": [
       "751438"
      ]
     },
     "execution_count": 32,
     "metadata": {},
     "output_type": "execute_result"
    }
   ],
   "source": [
    "df.isna().sum().sum()"
   ]
  },
  {
   "cell_type": "code",
   "execution_count": 33,
   "id": "d34cab0c",
   "metadata": {},
   "outputs": [
    {
     "data": {
      "text/plain": [
       "YearStart                          0\n",
       "LocationDesc                       0\n",
       "Datasource                         0\n",
       "Class                              0\n",
       "Question                           0\n",
       "Data_Value                     10767\n",
       "Data_Value_Footnote_Symbol     93505\n",
       "Data_Value_Footnote            93505\n",
       "Low_Confidence_Limit           10767\n",
       "High_Confidence_Limit          10767\n",
       "Sample_Size                    10767\n",
       "Total                         100548\n",
       "Age(years)                     81928\n",
       "Education                      89376\n",
       "Gender                         96824\n",
       "Income                         78204\n",
       "Race/Ethnicity                 74480\n",
       "ClassID                            0\n",
       "QuestionID                         0\n",
       "LocationID                         0\n",
       "StratificationCategory1            0\n",
       "Stratification1                    0\n",
       "StratificationCategoryId1          0\n",
       "StratificationID1                  0\n",
       "dtype: int64"
      ]
     },
     "execution_count": 33,
     "metadata": {},
     "output_type": "execute_result"
    }
   ],
   "source": [
    "df.isna().sum()"
   ]
  },
  {
   "cell_type": "code",
   "execution_count": 34,
   "id": "6382b008",
   "metadata": {},
   "outputs": [
    {
     "name": "stdout",
     "output_type": "stream",
     "text": [
      "YearStart                       0.0%\n",
      "LocationDesc                    0.0%\n",
      "Datasource                      0.0%\n",
      "Class                           0.0%\n",
      "Question                        0.0%\n",
      "Data_Value                    10.33%\n",
      "Data_Value_Footnote_Symbol    89.67%\n",
      "Data_Value_Footnote           89.67%\n",
      "Low_Confidence_Limit          10.33%\n",
      "High_Confidence_Limit         10.33%\n",
      "Sample_Size                   10.33%\n",
      "Total                         96.43%\n",
      "Age(years)                    78.57%\n",
      "Education                     85.71%\n",
      "Gender                        92.86%\n",
      "Income                         75.0%\n",
      "Race/Ethnicity                71.43%\n",
      "ClassID                         0.0%\n",
      "QuestionID                      0.0%\n",
      "LocationID                      0.0%\n",
      "StratificationCategory1         0.0%\n",
      "Stratification1                 0.0%\n",
      "StratificationCategoryId1       0.0%\n",
      "StratificationID1               0.0%\n",
      "dtype: object\n"
     ]
    }
   ],
   "source": [
    "# viewing the percentage of missing value\n",
    "missing_percentage = df.isna().mean() * 100\n",
    "print(missing_percentage.round(2).astype(str) + '%')"
   ]
  },
  {
   "cell_type": "code",
   "execution_count": 35,
   "id": "d121b4bb",
   "metadata": {},
   "outputs": [
    {
     "name": "stdout",
     "output_type": "stream",
     "text": [
      "Columns with more than 70% missing values:\n",
      "Index(['Data_Value_Footnote_Symbol', 'Data_Value_Footnote', 'Total',\n",
      "       'Age(years)', 'Education', 'Gender', 'Income', 'Race/Ethnicity'],\n",
      "      dtype='object')\n"
     ]
    }
   ],
   "source": [
    "# Print out columns with more than 70% missing values\n",
    "missing_columns_to_drop = missing_percentage[missing_percentage > 70].index\n",
    "print(\"Columns with more than 70% missing values:\")\n",
    "print(missing_columns_to_drop)"
   ]
  },
  {
   "cell_type": "code",
   "execution_count": 36,
   "id": "4b28ed80",
   "metadata": {},
   "outputs": [],
   "source": [
    "df = df.drop(columns=missing_columns_to_drop)"
   ]
  },
  {
   "cell_type": "code",
   "execution_count": 37,
   "id": "b0134734",
   "metadata": {},
   "outputs": [
    {
     "data": {
      "text/plain": [
       "YearStart                        0\n",
       "LocationDesc                     0\n",
       "Datasource                       0\n",
       "Class                            0\n",
       "Question                         0\n",
       "Data_Value                   10767\n",
       "Low_Confidence_Limit         10767\n",
       "High_Confidence_Limit        10767\n",
       "Sample_Size                  10767\n",
       "ClassID                          0\n",
       "QuestionID                       0\n",
       "LocationID                       0\n",
       "StratificationCategory1          0\n",
       "Stratification1                  0\n",
       "StratificationCategoryId1        0\n",
       "StratificationID1                0\n",
       "dtype: int64"
      ]
     },
     "execution_count": 37,
     "metadata": {},
     "output_type": "execute_result"
    }
   ],
   "source": [
    "df.isna().sum()"
   ]
  },
  {
   "cell_type": "code",
   "execution_count": 44,
   "id": "2c4d3ee2",
   "metadata": {},
   "outputs": [],
   "source": [
    "# Fiiling the numerical missing values with median\n",
    "\n",
    "df.fillna(df.median(), inplace=True)"
   ]
  },
  {
   "cell_type": "code",
   "execution_count": 47,
   "id": "b3da9bc6",
   "metadata": {
    "scrolled": true
   },
   "outputs": [
    {
     "data": {
      "text/plain": [
       "Year                         0\n",
       "LocationDesc                 0\n",
       "Datasource                   0\n",
       "Class                        0\n",
       "Question                     0\n",
       "Data_Value                   0\n",
       "Low_Confidence_Limit         0\n",
       "High_Confidence_Limit        0\n",
       "Sample_Size                  0\n",
       "ClassID                      0\n",
       "QuestionID                   0\n",
       "LocationID                   0\n",
       "StratificationCategory1      0\n",
       "Stratification1              0\n",
       "StratificationCategoryId1    0\n",
       "StratificationID1            0\n",
       "dtype: int64"
      ]
     },
     "execution_count": 47,
     "metadata": {},
     "output_type": "execute_result"
    }
   ],
   "source": [
    "df.isna().sum()"
   ]
  },
  {
   "cell_type": "code",
   "execution_count": 48,
   "id": "d5f6f5b9",
   "metadata": {},
   "outputs": [
    {
     "data": {
      "text/plain": [
       "0"
      ]
     },
     "execution_count": 48,
     "metadata": {},
     "output_type": "execute_result"
    }
   ],
   "source": [
    "df.duplicated().sum() # Checking for duplicates"
   ]
  },
  {
   "cell_type": "code",
   "execution_count": 49,
   "id": "85dbf97a",
   "metadata": {},
   "outputs": [
    {
     "data": {
      "text/plain": [
       "(104272, 16)"
      ]
     },
     "execution_count": 49,
     "metadata": {},
     "output_type": "execute_result"
    }
   ],
   "source": [
    "df.shape"
   ]
  },
  {
   "cell_type": "code",
   "execution_count": 50,
   "id": "1e6d99a1",
   "metadata": {},
   "outputs": [],
   "source": [
    "def identify_and_remove_outliers(df):\n",
    "    # Create a copy of the dataframe\n",
    "    df_no_outliers = df.copy()\n",
    "    \n",
    "    # Select numerical columns\n",
    "    numerical_columns = df.select_dtypes(include=['float64', 'int64']).columns\n",
    "    \n",
    "    # Dictionary to store outlier counts\n",
    "    outlier_counts = {}\n",
    "    \n",
    "    for column in numerical_columns:\n",
    "        Q1 = df[column].quantile(0.25)\n",
    "        Q3 = df[column].quantile(0.75)\n",
    "        IQR = Q3 - Q1\n",
    "        lower_bound = Q1 - 1.5 * IQR\n",
    "        upper_bound = Q3 + 1.5 * IQR\n",
    "        \n",
    "        # Count outliers\n",
    "        outliers = df[(df[column] < lower_bound) | (df[column] > upper_bound)]\n",
    "        outlier_counts[column] = len(outliers)\n",
    "        \n",
    "        # Remove outliers\n",
    "        df_no_outliers = df_no_outliers[\n",
    "            (df_no_outliers[column] >= lower_bound) & \n",
    "            (df_no_outliers[column] <= upper_bound)\n",
    "        ]\n",
    "    \n",
    "    return df_no_outliers, outlier_counts, df"
   ]
  },
  {
   "cell_type": "code",
   "execution_count": 51,
   "id": "adc560d3",
   "metadata": {},
   "outputs": [
    {
     "name": "stdout",
     "output_type": "stream",
     "text": [
      "Year: 0 outliers removed\n",
      "Data_Value: 4042 outliers removed\n",
      "Low_Confidence_Limit: 3325 outliers removed\n",
      "High_Confidence_Limit : 4288 outliers removed\n",
      "Sample_Size: 10868 outliers removed\n",
      "LocationID: 0 outliers removed\n"
     ]
    }
   ],
   "source": [
    "# Apply the function\n",
    "df_cleaned, outliers_info, df = identify_and_remove_outliers(df)\n",
    "\n",
    "# Print outlier information\n",
    "for column, count in outliers_info.items():\n",
    "    print(f\"{column}: {count} outliers removed\")"
   ]
  },
  {
   "cell_type": "code",
   "execution_count": 53,
   "id": "874ee174",
   "metadata": {},
   "outputs": [
    {
     "data": {
      "text/plain": [
       "(104272, 16)"
      ]
     },
     "execution_count": 53,
     "metadata": {},
     "output_type": "execute_result"
    }
   ],
   "source": [
    "df.shape"
   ]
  },
  {
   "cell_type": "code",
   "execution_count": 52,
   "id": "c9e198f9",
   "metadata": {},
   "outputs": [
    {
     "data": {
      "text/plain": [
       "(88493, 16)"
      ]
     },
     "execution_count": 52,
     "metadata": {},
     "output_type": "execute_result"
    }
   ],
   "source": [
    "df_cleaned.shape"
   ]
  },
  {
   "cell_type": "code",
   "execution_count": 54,
   "id": "d14b7ff7",
   "metadata": {},
   "outputs": [
    {
     "data": {
      "text/plain": [
       "{'Year': 0,\n",
       " 'Data_Value': 4042,\n",
       " 'Low_Confidence_Limit': 3325,\n",
       " 'High_Confidence_Limit ': 4288,\n",
       " 'Sample_Size': 10868,\n",
       " 'LocationID': 0}"
      ]
     },
     "execution_count": 54,
     "metadata": {},
     "output_type": "execute_result"
    }
   ],
   "source": [
    "outliers_info"
   ]
  },
  {
   "cell_type": "code",
   "execution_count": null,
   "id": "87948bfd",
   "metadata": {},
   "outputs": [],
   "source": []
  },
  {
   "cell_type": "markdown",
   "id": "2bb78827",
   "metadata": {},
   "source": [
    "### Exploratory Data Analysis (EDA)"
   ]
  },
  {
   "cell_type": "code",
   "execution_count": null,
   "id": "4e078b4e",
   "metadata": {},
   "outputs": [],
   "source": []
  },
  {
   "cell_type": "code",
   "execution_count": null,
   "id": "e67743c0",
   "metadata": {},
   "outputs": [],
   "source": []
  },
  {
   "cell_type": "code",
   "execution_count": null,
   "id": "2560ed7c",
   "metadata": {},
   "outputs": [],
   "source": []
  },
  {
   "cell_type": "code",
   "execution_count": null,
   "id": "54f4a396",
   "metadata": {},
   "outputs": [],
   "source": []
  },
  {
   "cell_type": "code",
   "execution_count": null,
   "id": "9cc7ed17",
   "metadata": {},
   "outputs": [],
   "source": []
  },
  {
   "cell_type": "code",
   "execution_count": null,
   "id": "ff0e963c",
   "metadata": {},
   "outputs": [],
   "source": []
  },
  {
   "cell_type": "code",
   "execution_count": null,
   "id": "2df4bbf7",
   "metadata": {},
   "outputs": [],
   "source": []
  },
  {
   "cell_type": "code",
   "execution_count": null,
   "id": "4d890839",
   "metadata": {},
   "outputs": [],
   "source": []
  },
  {
   "cell_type": "code",
   "execution_count": null,
   "id": "0d6fd541",
   "metadata": {},
   "outputs": [],
   "source": []
  },
  {
   "cell_type": "code",
   "execution_count": null,
   "id": "cbfc4f72",
   "metadata": {},
   "outputs": [],
   "source": []
  },
  {
   "cell_type": "code",
   "execution_count": null,
   "id": "2e6f3512",
   "metadata": {},
   "outputs": [],
   "source": []
  },
  {
   "cell_type": "code",
   "execution_count": null,
   "id": "c258c3e2",
   "metadata": {},
   "outputs": [],
   "source": []
  },
  {
   "cell_type": "code",
   "execution_count": null,
   "id": "770018f9",
   "metadata": {},
   "outputs": [],
   "source": []
  },
  {
   "cell_type": "code",
   "execution_count": null,
   "id": "3d23d047",
   "metadata": {},
   "outputs": [],
   "source": []
  },
  {
   "cell_type": "code",
   "execution_count": null,
   "id": "7c8ec0d4",
   "metadata": {},
   "outputs": [],
   "source": []
  },
  {
   "cell_type": "code",
   "execution_count": null,
   "id": "90816f91",
   "metadata": {},
   "outputs": [],
   "source": []
  },
  {
   "cell_type": "code",
   "execution_count": null,
   "id": "c3ad91f6",
   "metadata": {},
   "outputs": [],
   "source": []
  },
  {
   "cell_type": "code",
   "execution_count": null,
   "id": "bcd7c53f",
   "metadata": {},
   "outputs": [],
   "source": []
  },
  {
   "cell_type": "code",
   "execution_count": null,
   "id": "ced4b0be",
   "metadata": {},
   "outputs": [],
   "source": []
  },
  {
   "cell_type": "code",
   "execution_count": null,
   "id": "2e46e4fa",
   "metadata": {},
   "outputs": [],
   "source": []
  },
  {
   "cell_type": "code",
   "execution_count": null,
   "id": "b337cd74",
   "metadata": {},
   "outputs": [],
   "source": []
  },
  {
   "cell_type": "code",
   "execution_count": null,
   "id": "78276e08",
   "metadata": {},
   "outputs": [],
   "source": []
  },
  {
   "cell_type": "code",
   "execution_count": null,
   "id": "ada7fcd0",
   "metadata": {},
   "outputs": [],
   "source": []
  },
  {
   "cell_type": "code",
   "execution_count": null,
   "id": "f5c419b0",
   "metadata": {},
   "outputs": [],
   "source": []
  },
  {
   "cell_type": "code",
   "execution_count": null,
   "id": "874a4dbf",
   "metadata": {},
   "outputs": [],
   "source": []
  },
  {
   "cell_type": "code",
   "execution_count": null,
   "id": "8ac74dec",
   "metadata": {},
   "outputs": [],
   "source": []
  },
  {
   "cell_type": "code",
   "execution_count": null,
   "id": "1f5db636",
   "metadata": {},
   "outputs": [],
   "source": []
  },
  {
   "cell_type": "code",
   "execution_count": null,
   "id": "c68aada7",
   "metadata": {},
   "outputs": [],
   "source": []
  },
  {
   "cell_type": "code",
   "execution_count": null,
   "id": "cebea713",
   "metadata": {},
   "outputs": [],
   "source": []
  },
  {
   "cell_type": "code",
   "execution_count": null,
   "id": "5db63003",
   "metadata": {},
   "outputs": [],
   "source": []
  },
  {
   "cell_type": "code",
   "execution_count": null,
   "id": "fbed630f",
   "metadata": {},
   "outputs": [],
   "source": []
  },
  {
   "cell_type": "code",
   "execution_count": null,
   "id": "4caa08ec",
   "metadata": {},
   "outputs": [],
   "source": []
  },
  {
   "cell_type": "code",
   "execution_count": null,
   "id": "cbd3462e",
   "metadata": {},
   "outputs": [],
   "source": []
  },
  {
   "cell_type": "code",
   "execution_count": null,
   "id": "63f9b233",
   "metadata": {},
   "outputs": [],
   "source": []
  },
  {
   "cell_type": "code",
   "execution_count": null,
   "id": "c9069f20",
   "metadata": {},
   "outputs": [],
   "source": []
  },
  {
   "cell_type": "code",
   "execution_count": null,
   "id": "10e60086",
   "metadata": {},
   "outputs": [],
   "source": []
  },
  {
   "cell_type": "code",
   "execution_count": null,
   "id": "d5e08a8d",
   "metadata": {},
   "outputs": [],
   "source": []
  },
  {
   "cell_type": "code",
   "execution_count": null,
   "id": "22284ed0",
   "metadata": {},
   "outputs": [],
   "source": []
  },
  {
   "cell_type": "code",
   "execution_count": null,
   "id": "d2491cd1",
   "metadata": {},
   "outputs": [],
   "source": []
  },
  {
   "cell_type": "code",
   "execution_count": null,
   "id": "51477aec",
   "metadata": {},
   "outputs": [],
   "source": [
    "# df1.to_csv('df1.csv', index=False)"
   ]
  }
 ],
 "metadata": {
  "kernelspec": {
   "display_name": "Python 3 (ipykernel)",
   "language": "python",
   "name": "python3"
  },
  "language_info": {
   "codemirror_mode": {
    "name": "ipython",
    "version": 3
   },
   "file_extension": ".py",
   "mimetype": "text/x-python",
   "name": "python",
   "nbconvert_exporter": "python",
   "pygments_lexer": "ipython3",
   "version": "3.11.4"
  }
 },
 "nbformat": 4,
 "nbformat_minor": 5
}
